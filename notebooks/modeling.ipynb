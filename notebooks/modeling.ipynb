{
  "nbformat": 4,
  "nbformat_minor": 0,
  "metadata": {
    "colab": {
      "provenance": [],
      "gpuType": "T4"
    },
    "kernelspec": {
      "name": "python3",
      "display_name": "Python 3"
    },
    "language_info": {
      "name": "python"
    },
    "accelerator": "GPU",
    "widgets": {
      "application/vnd.jupyter.widget-state+json": {
        "a2087d6433364cd78c6426654f63f2b6": {
          "model_module": "@jupyter-widgets/controls",
          "model_name": "HBoxModel",
          "model_module_version": "1.5.0",
          "state": {
            "_dom_classes": [],
            "_model_module": "@jupyter-widgets/controls",
            "_model_module_version": "1.5.0",
            "_model_name": "HBoxModel",
            "_view_count": null,
            "_view_module": "@jupyter-widgets/controls",
            "_view_module_version": "1.5.0",
            "_view_name": "HBoxView",
            "box_style": "",
            "children": [
              "IPY_MODEL_b4cc19c491a64f5b85a16009695c68c0",
              "IPY_MODEL_0cc05b1637534f62a20b2da1b331c5e6",
              "IPY_MODEL_6fd93f57647a4ef3b64e4f1b62cb68bb"
            ],
            "layout": "IPY_MODEL_660c6353232241e3ace2d9cc2e74b1e6"
          }
        },
        "b4cc19c491a64f5b85a16009695c68c0": {
          "model_module": "@jupyter-widgets/controls",
          "model_name": "HTMLModel",
          "model_module_version": "1.5.0",
          "state": {
            "_dom_classes": [],
            "_model_module": "@jupyter-widgets/controls",
            "_model_module_version": "1.5.0",
            "_model_name": "HTMLModel",
            "_view_count": null,
            "_view_module": "@jupyter-widgets/controls",
            "_view_module_version": "1.5.0",
            "_view_name": "HTMLView",
            "description": "",
            "description_tooltip": null,
            "layout": "IPY_MODEL_e8602f382dc6416d9cc193295215f4f1",
            "placeholder": "​",
            "style": "IPY_MODEL_c1b5cfb526f64670b5bc49c50e96ce24",
            "value": "Map: 100%"
          }
        },
        "0cc05b1637534f62a20b2da1b331c5e6": {
          "model_module": "@jupyter-widgets/controls",
          "model_name": "FloatProgressModel",
          "model_module_version": "1.5.0",
          "state": {
            "_dom_classes": [],
            "_model_module": "@jupyter-widgets/controls",
            "_model_module_version": "1.5.0",
            "_model_name": "FloatProgressModel",
            "_view_count": null,
            "_view_module": "@jupyter-widgets/controls",
            "_view_module_version": "1.5.0",
            "_view_name": "ProgressView",
            "bar_style": "success",
            "description": "",
            "description_tooltip": null,
            "layout": "IPY_MODEL_52cda2ae506b42cd8d812ecc08a2270e",
            "max": 1697,
            "min": 0,
            "orientation": "horizontal",
            "style": "IPY_MODEL_e58c8cb372f2428a90b1e726bfe731e9",
            "value": 1697
          }
        },
        "6fd93f57647a4ef3b64e4f1b62cb68bb": {
          "model_module": "@jupyter-widgets/controls",
          "model_name": "HTMLModel",
          "model_module_version": "1.5.0",
          "state": {
            "_dom_classes": [],
            "_model_module": "@jupyter-widgets/controls",
            "_model_module_version": "1.5.0",
            "_model_name": "HTMLModel",
            "_view_count": null,
            "_view_module": "@jupyter-widgets/controls",
            "_view_module_version": "1.5.0",
            "_view_name": "HTMLView",
            "description": "",
            "description_tooltip": null,
            "layout": "IPY_MODEL_7e19eb12bb4145c18e81c3dd6e1eba9d",
            "placeholder": "​",
            "style": "IPY_MODEL_d63d2f8409e04945871b05b1d65197ec",
            "value": " 1697/1697 [00:01&lt;00:00, 1506.22 examples/s]"
          }
        },
        "660c6353232241e3ace2d9cc2e74b1e6": {
          "model_module": "@jupyter-widgets/base",
          "model_name": "LayoutModel",
          "model_module_version": "1.2.0",
          "state": {
            "_model_module": "@jupyter-widgets/base",
            "_model_module_version": "1.2.0",
            "_model_name": "LayoutModel",
            "_view_count": null,
            "_view_module": "@jupyter-widgets/base",
            "_view_module_version": "1.2.0",
            "_view_name": "LayoutView",
            "align_content": null,
            "align_items": null,
            "align_self": null,
            "border": null,
            "bottom": null,
            "display": null,
            "flex": null,
            "flex_flow": null,
            "grid_area": null,
            "grid_auto_columns": null,
            "grid_auto_flow": null,
            "grid_auto_rows": null,
            "grid_column": null,
            "grid_gap": null,
            "grid_row": null,
            "grid_template_areas": null,
            "grid_template_columns": null,
            "grid_template_rows": null,
            "height": null,
            "justify_content": null,
            "justify_items": null,
            "left": null,
            "margin": null,
            "max_height": null,
            "max_width": null,
            "min_height": null,
            "min_width": null,
            "object_fit": null,
            "object_position": null,
            "order": null,
            "overflow": null,
            "overflow_x": null,
            "overflow_y": null,
            "padding": null,
            "right": null,
            "top": null,
            "visibility": null,
            "width": null
          }
        },
        "e8602f382dc6416d9cc193295215f4f1": {
          "model_module": "@jupyter-widgets/base",
          "model_name": "LayoutModel",
          "model_module_version": "1.2.0",
          "state": {
            "_model_module": "@jupyter-widgets/base",
            "_model_module_version": "1.2.0",
            "_model_name": "LayoutModel",
            "_view_count": null,
            "_view_module": "@jupyter-widgets/base",
            "_view_module_version": "1.2.0",
            "_view_name": "LayoutView",
            "align_content": null,
            "align_items": null,
            "align_self": null,
            "border": null,
            "bottom": null,
            "display": null,
            "flex": null,
            "flex_flow": null,
            "grid_area": null,
            "grid_auto_columns": null,
            "grid_auto_flow": null,
            "grid_auto_rows": null,
            "grid_column": null,
            "grid_gap": null,
            "grid_row": null,
            "grid_template_areas": null,
            "grid_template_columns": null,
            "grid_template_rows": null,
            "height": null,
            "justify_content": null,
            "justify_items": null,
            "left": null,
            "margin": null,
            "max_height": null,
            "max_width": null,
            "min_height": null,
            "min_width": null,
            "object_fit": null,
            "object_position": null,
            "order": null,
            "overflow": null,
            "overflow_x": null,
            "overflow_y": null,
            "padding": null,
            "right": null,
            "top": null,
            "visibility": null,
            "width": null
          }
        },
        "c1b5cfb526f64670b5bc49c50e96ce24": {
          "model_module": "@jupyter-widgets/controls",
          "model_name": "DescriptionStyleModel",
          "model_module_version": "1.5.0",
          "state": {
            "_model_module": "@jupyter-widgets/controls",
            "_model_module_version": "1.5.0",
            "_model_name": "DescriptionStyleModel",
            "_view_count": null,
            "_view_module": "@jupyter-widgets/base",
            "_view_module_version": "1.2.0",
            "_view_name": "StyleView",
            "description_width": ""
          }
        },
        "52cda2ae506b42cd8d812ecc08a2270e": {
          "model_module": "@jupyter-widgets/base",
          "model_name": "LayoutModel",
          "model_module_version": "1.2.0",
          "state": {
            "_model_module": "@jupyter-widgets/base",
            "_model_module_version": "1.2.0",
            "_model_name": "LayoutModel",
            "_view_count": null,
            "_view_module": "@jupyter-widgets/base",
            "_view_module_version": "1.2.0",
            "_view_name": "LayoutView",
            "align_content": null,
            "align_items": null,
            "align_self": null,
            "border": null,
            "bottom": null,
            "display": null,
            "flex": null,
            "flex_flow": null,
            "grid_area": null,
            "grid_auto_columns": null,
            "grid_auto_flow": null,
            "grid_auto_rows": null,
            "grid_column": null,
            "grid_gap": null,
            "grid_row": null,
            "grid_template_areas": null,
            "grid_template_columns": null,
            "grid_template_rows": null,
            "height": null,
            "justify_content": null,
            "justify_items": null,
            "left": null,
            "margin": null,
            "max_height": null,
            "max_width": null,
            "min_height": null,
            "min_width": null,
            "object_fit": null,
            "object_position": null,
            "order": null,
            "overflow": null,
            "overflow_x": null,
            "overflow_y": null,
            "padding": null,
            "right": null,
            "top": null,
            "visibility": null,
            "width": null
          }
        },
        "e58c8cb372f2428a90b1e726bfe731e9": {
          "model_module": "@jupyter-widgets/controls",
          "model_name": "ProgressStyleModel",
          "model_module_version": "1.5.0",
          "state": {
            "_model_module": "@jupyter-widgets/controls",
            "_model_module_version": "1.5.0",
            "_model_name": "ProgressStyleModel",
            "_view_count": null,
            "_view_module": "@jupyter-widgets/base",
            "_view_module_version": "1.2.0",
            "_view_name": "StyleView",
            "bar_color": null,
            "description_width": ""
          }
        },
        "7e19eb12bb4145c18e81c3dd6e1eba9d": {
          "model_module": "@jupyter-widgets/base",
          "model_name": "LayoutModel",
          "model_module_version": "1.2.0",
          "state": {
            "_model_module": "@jupyter-widgets/base",
            "_model_module_version": "1.2.0",
            "_model_name": "LayoutModel",
            "_view_count": null,
            "_view_module": "@jupyter-widgets/base",
            "_view_module_version": "1.2.0",
            "_view_name": "LayoutView",
            "align_content": null,
            "align_items": null,
            "align_self": null,
            "border": null,
            "bottom": null,
            "display": null,
            "flex": null,
            "flex_flow": null,
            "grid_area": null,
            "grid_auto_columns": null,
            "grid_auto_flow": null,
            "grid_auto_rows": null,
            "grid_column": null,
            "grid_gap": null,
            "grid_row": null,
            "grid_template_areas": null,
            "grid_template_columns": null,
            "grid_template_rows": null,
            "height": null,
            "justify_content": null,
            "justify_items": null,
            "left": null,
            "margin": null,
            "max_height": null,
            "max_width": null,
            "min_height": null,
            "min_width": null,
            "object_fit": null,
            "object_position": null,
            "order": null,
            "overflow": null,
            "overflow_x": null,
            "overflow_y": null,
            "padding": null,
            "right": null,
            "top": null,
            "visibility": null,
            "width": null
          }
        },
        "d63d2f8409e04945871b05b1d65197ec": {
          "model_module": "@jupyter-widgets/controls",
          "model_name": "DescriptionStyleModel",
          "model_module_version": "1.5.0",
          "state": {
            "_model_module": "@jupyter-widgets/controls",
            "_model_module_version": "1.5.0",
            "_model_name": "DescriptionStyleModel",
            "_view_count": null,
            "_view_module": "@jupyter-widgets/base",
            "_view_module_version": "1.2.0",
            "_view_name": "StyleView",
            "description_width": ""
          }
        },
        "27fa982122974fb9896dabe1f8c4ad93": {
          "model_module": "@jupyter-widgets/controls",
          "model_name": "HBoxModel",
          "model_module_version": "1.5.0",
          "state": {
            "_dom_classes": [],
            "_model_module": "@jupyter-widgets/controls",
            "_model_module_version": "1.5.0",
            "_model_name": "HBoxModel",
            "_view_count": null,
            "_view_module": "@jupyter-widgets/controls",
            "_view_module_version": "1.5.0",
            "_view_name": "HBoxView",
            "box_style": "",
            "children": [
              "IPY_MODEL_31ef9022580f423f9359fff6d749a203",
              "IPY_MODEL_7236a3315d024650a62a78c2f82c3b08",
              "IPY_MODEL_583b84fd6c834b6dbb79c82a33dc0606"
            ],
            "layout": "IPY_MODEL_e68cd62bcc704a8692030ba8035efcf2"
          }
        },
        "31ef9022580f423f9359fff6d749a203": {
          "model_module": "@jupyter-widgets/controls",
          "model_name": "HTMLModel",
          "model_module_version": "1.5.0",
          "state": {
            "_dom_classes": [],
            "_model_module": "@jupyter-widgets/controls",
            "_model_module_version": "1.5.0",
            "_model_name": "HTMLModel",
            "_view_count": null,
            "_view_module": "@jupyter-widgets/controls",
            "_view_module_version": "1.5.0",
            "_view_name": "HTMLView",
            "description": "",
            "description_tooltip": null,
            "layout": "IPY_MODEL_bb4914a5a57e4a0db2a7eac78305366e",
            "placeholder": "​",
            "style": "IPY_MODEL_0bb3eb5c5d574ad19cb9ecd7b5b124e6",
            "value": "Map: 100%"
          }
        },
        "7236a3315d024650a62a78c2f82c3b08": {
          "model_module": "@jupyter-widgets/controls",
          "model_name": "FloatProgressModel",
          "model_module_version": "1.5.0",
          "state": {
            "_dom_classes": [],
            "_model_module": "@jupyter-widgets/controls",
            "_model_module_version": "1.5.0",
            "_model_name": "FloatProgressModel",
            "_view_count": null,
            "_view_module": "@jupyter-widgets/controls",
            "_view_module_version": "1.5.0",
            "_view_name": "ProgressView",
            "bar_style": "success",
            "description": "",
            "description_tooltip": null,
            "layout": "IPY_MODEL_d29ccff0d55244b48fb90bc9ac236b1e",
            "max": 97,
            "min": 0,
            "orientation": "horizontal",
            "style": "IPY_MODEL_8b965cba6942462e808701847a333516",
            "value": 97
          }
        },
        "583b84fd6c834b6dbb79c82a33dc0606": {
          "model_module": "@jupyter-widgets/controls",
          "model_name": "HTMLModel",
          "model_module_version": "1.5.0",
          "state": {
            "_dom_classes": [],
            "_model_module": "@jupyter-widgets/controls",
            "_model_module_version": "1.5.0",
            "_model_name": "HTMLModel",
            "_view_count": null,
            "_view_module": "@jupyter-widgets/controls",
            "_view_module_version": "1.5.0",
            "_view_name": "HTMLView",
            "description": "",
            "description_tooltip": null,
            "layout": "IPY_MODEL_983d03d045154a649dd7fa776620a683",
            "placeholder": "​",
            "style": "IPY_MODEL_88393f5378374317bf344f3bee3d6fea",
            "value": " 97/97 [00:00&lt;00:00, 1139.30 examples/s]"
          }
        },
        "e68cd62bcc704a8692030ba8035efcf2": {
          "model_module": "@jupyter-widgets/base",
          "model_name": "LayoutModel",
          "model_module_version": "1.2.0",
          "state": {
            "_model_module": "@jupyter-widgets/base",
            "_model_module_version": "1.2.0",
            "_model_name": "LayoutModel",
            "_view_count": null,
            "_view_module": "@jupyter-widgets/base",
            "_view_module_version": "1.2.0",
            "_view_name": "LayoutView",
            "align_content": null,
            "align_items": null,
            "align_self": null,
            "border": null,
            "bottom": null,
            "display": null,
            "flex": null,
            "flex_flow": null,
            "grid_area": null,
            "grid_auto_columns": null,
            "grid_auto_flow": null,
            "grid_auto_rows": null,
            "grid_column": null,
            "grid_gap": null,
            "grid_row": null,
            "grid_template_areas": null,
            "grid_template_columns": null,
            "grid_template_rows": null,
            "height": null,
            "justify_content": null,
            "justify_items": null,
            "left": null,
            "margin": null,
            "max_height": null,
            "max_width": null,
            "min_height": null,
            "min_width": null,
            "object_fit": null,
            "object_position": null,
            "order": null,
            "overflow": null,
            "overflow_x": null,
            "overflow_y": null,
            "padding": null,
            "right": null,
            "top": null,
            "visibility": null,
            "width": null
          }
        },
        "bb4914a5a57e4a0db2a7eac78305366e": {
          "model_module": "@jupyter-widgets/base",
          "model_name": "LayoutModel",
          "model_module_version": "1.2.0",
          "state": {
            "_model_module": "@jupyter-widgets/base",
            "_model_module_version": "1.2.0",
            "_model_name": "LayoutModel",
            "_view_count": null,
            "_view_module": "@jupyter-widgets/base",
            "_view_module_version": "1.2.0",
            "_view_name": "LayoutView",
            "align_content": null,
            "align_items": null,
            "align_self": null,
            "border": null,
            "bottom": null,
            "display": null,
            "flex": null,
            "flex_flow": null,
            "grid_area": null,
            "grid_auto_columns": null,
            "grid_auto_flow": null,
            "grid_auto_rows": null,
            "grid_column": null,
            "grid_gap": null,
            "grid_row": null,
            "grid_template_areas": null,
            "grid_template_columns": null,
            "grid_template_rows": null,
            "height": null,
            "justify_content": null,
            "justify_items": null,
            "left": null,
            "margin": null,
            "max_height": null,
            "max_width": null,
            "min_height": null,
            "min_width": null,
            "object_fit": null,
            "object_position": null,
            "order": null,
            "overflow": null,
            "overflow_x": null,
            "overflow_y": null,
            "padding": null,
            "right": null,
            "top": null,
            "visibility": null,
            "width": null
          }
        },
        "0bb3eb5c5d574ad19cb9ecd7b5b124e6": {
          "model_module": "@jupyter-widgets/controls",
          "model_name": "DescriptionStyleModel",
          "model_module_version": "1.5.0",
          "state": {
            "_model_module": "@jupyter-widgets/controls",
            "_model_module_version": "1.5.0",
            "_model_name": "DescriptionStyleModel",
            "_view_count": null,
            "_view_module": "@jupyter-widgets/base",
            "_view_module_version": "1.2.0",
            "_view_name": "StyleView",
            "description_width": ""
          }
        },
        "d29ccff0d55244b48fb90bc9ac236b1e": {
          "model_module": "@jupyter-widgets/base",
          "model_name": "LayoutModel",
          "model_module_version": "1.2.0",
          "state": {
            "_model_module": "@jupyter-widgets/base",
            "_model_module_version": "1.2.0",
            "_model_name": "LayoutModel",
            "_view_count": null,
            "_view_module": "@jupyter-widgets/base",
            "_view_module_version": "1.2.0",
            "_view_name": "LayoutView",
            "align_content": null,
            "align_items": null,
            "align_self": null,
            "border": null,
            "bottom": null,
            "display": null,
            "flex": null,
            "flex_flow": null,
            "grid_area": null,
            "grid_auto_columns": null,
            "grid_auto_flow": null,
            "grid_auto_rows": null,
            "grid_column": null,
            "grid_gap": null,
            "grid_row": null,
            "grid_template_areas": null,
            "grid_template_columns": null,
            "grid_template_rows": null,
            "height": null,
            "justify_content": null,
            "justify_items": null,
            "left": null,
            "margin": null,
            "max_height": null,
            "max_width": null,
            "min_height": null,
            "min_width": null,
            "object_fit": null,
            "object_position": null,
            "order": null,
            "overflow": null,
            "overflow_x": null,
            "overflow_y": null,
            "padding": null,
            "right": null,
            "top": null,
            "visibility": null,
            "width": null
          }
        },
        "8b965cba6942462e808701847a333516": {
          "model_module": "@jupyter-widgets/controls",
          "model_name": "ProgressStyleModel",
          "model_module_version": "1.5.0",
          "state": {
            "_model_module": "@jupyter-widgets/controls",
            "_model_module_version": "1.5.0",
            "_model_name": "ProgressStyleModel",
            "_view_count": null,
            "_view_module": "@jupyter-widgets/base",
            "_view_module_version": "1.2.0",
            "_view_name": "StyleView",
            "bar_color": null,
            "description_width": ""
          }
        },
        "983d03d045154a649dd7fa776620a683": {
          "model_module": "@jupyter-widgets/base",
          "model_name": "LayoutModel",
          "model_module_version": "1.2.0",
          "state": {
            "_model_module": "@jupyter-widgets/base",
            "_model_module_version": "1.2.0",
            "_model_name": "LayoutModel",
            "_view_count": null,
            "_view_module": "@jupyter-widgets/base",
            "_view_module_version": "1.2.0",
            "_view_name": "LayoutView",
            "align_content": null,
            "align_items": null,
            "align_self": null,
            "border": null,
            "bottom": null,
            "display": null,
            "flex": null,
            "flex_flow": null,
            "grid_area": null,
            "grid_auto_columns": null,
            "grid_auto_flow": null,
            "grid_auto_rows": null,
            "grid_column": null,
            "grid_gap": null,
            "grid_row": null,
            "grid_template_areas": null,
            "grid_template_columns": null,
            "grid_template_rows": null,
            "height": null,
            "justify_content": null,
            "justify_items": null,
            "left": null,
            "margin": null,
            "max_height": null,
            "max_width": null,
            "min_height": null,
            "min_width": null,
            "object_fit": null,
            "object_position": null,
            "order": null,
            "overflow": null,
            "overflow_x": null,
            "overflow_y": null,
            "padding": null,
            "right": null,
            "top": null,
            "visibility": null,
            "width": null
          }
        },
        "88393f5378374317bf344f3bee3d6fea": {
          "model_module": "@jupyter-widgets/controls",
          "model_name": "DescriptionStyleModel",
          "model_module_version": "1.5.0",
          "state": {
            "_model_module": "@jupyter-widgets/controls",
            "_model_module_version": "1.5.0",
            "_model_name": "DescriptionStyleModel",
            "_view_count": null,
            "_view_module": "@jupyter-widgets/base",
            "_view_module_version": "1.2.0",
            "_view_name": "StyleView",
            "description_width": ""
          }
        }
      }
    }
  },
  "cells": [
    {
      "cell_type": "code",
      "source": [
        "!pip install openpyxl\n",
        "!pip install datasets\n",
        "# !pip install bitsandbytes\n",
        "# !pip install accelerate\n",
        "# !pip install peft"
      ],
      "metadata": {
        "colab": {
          "base_uri": "https://localhost:8080/"
        },
        "id": "7Qi-T38_8d7R",
        "outputId": "e4f71baf-32b3-4a4e-94f5-be43dfbc019e"
      },
      "execution_count": 1,
      "outputs": [
        {
          "output_type": "stream",
          "name": "stdout",
          "text": [
            "Requirement already satisfied: openpyxl in /usr/local/lib/python3.11/dist-packages (3.1.5)\n",
            "Requirement already satisfied: et-xmlfile in /usr/local/lib/python3.11/dist-packages (from openpyxl) (2.0.0)\n",
            "Collecting datasets\n",
            "  Downloading datasets-3.3.1-py3-none-any.whl.metadata (19 kB)\n",
            "Requirement already satisfied: filelock in /usr/local/lib/python3.11/dist-packages (from datasets) (3.17.0)\n",
            "Requirement already satisfied: numpy>=1.17 in /usr/local/lib/python3.11/dist-packages (from datasets) (1.26.4)\n",
            "Requirement already satisfied: pyarrow>=15.0.0 in /usr/local/lib/python3.11/dist-packages (from datasets) (17.0.0)\n",
            "Collecting dill<0.3.9,>=0.3.0 (from datasets)\n",
            "  Downloading dill-0.3.8-py3-none-any.whl.metadata (10 kB)\n",
            "Requirement already satisfied: pandas in /usr/local/lib/python3.11/dist-packages (from datasets) (2.2.2)\n",
            "Requirement already satisfied: requests>=2.32.2 in /usr/local/lib/python3.11/dist-packages (from datasets) (2.32.3)\n",
            "Requirement already satisfied: tqdm>=4.66.3 in /usr/local/lib/python3.11/dist-packages (from datasets) (4.67.1)\n",
            "Collecting xxhash (from datasets)\n",
            "  Downloading xxhash-3.5.0-cp311-cp311-manylinux_2_17_x86_64.manylinux2014_x86_64.whl.metadata (12 kB)\n",
            "Collecting multiprocess<0.70.17 (from datasets)\n",
            "  Downloading multiprocess-0.70.16-py311-none-any.whl.metadata (7.2 kB)\n",
            "Requirement already satisfied: fsspec<=2024.12.0,>=2023.1.0 in /usr/local/lib/python3.11/dist-packages (from fsspec[http]<=2024.12.0,>=2023.1.0->datasets) (2024.10.0)\n",
            "Requirement already satisfied: aiohttp in /usr/local/lib/python3.11/dist-packages (from datasets) (3.11.12)\n",
            "Requirement already satisfied: huggingface-hub>=0.24.0 in /usr/local/lib/python3.11/dist-packages (from datasets) (0.28.1)\n",
            "Requirement already satisfied: packaging in /usr/local/lib/python3.11/dist-packages (from datasets) (24.2)\n",
            "Requirement already satisfied: pyyaml>=5.1 in /usr/local/lib/python3.11/dist-packages (from datasets) (6.0.2)\n",
            "Requirement already satisfied: aiohappyeyeballs>=2.3.0 in /usr/local/lib/python3.11/dist-packages (from aiohttp->datasets) (2.4.6)\n",
            "Requirement already satisfied: aiosignal>=1.1.2 in /usr/local/lib/python3.11/dist-packages (from aiohttp->datasets) (1.3.2)\n",
            "Requirement already satisfied: attrs>=17.3.0 in /usr/local/lib/python3.11/dist-packages (from aiohttp->datasets) (25.1.0)\n",
            "Requirement already satisfied: frozenlist>=1.1.1 in /usr/local/lib/python3.11/dist-packages (from aiohttp->datasets) (1.5.0)\n",
            "Requirement already satisfied: multidict<7.0,>=4.5 in /usr/local/lib/python3.11/dist-packages (from aiohttp->datasets) (6.1.0)\n",
            "Requirement already satisfied: propcache>=0.2.0 in /usr/local/lib/python3.11/dist-packages (from aiohttp->datasets) (0.2.1)\n",
            "Requirement already satisfied: yarl<2.0,>=1.17.0 in /usr/local/lib/python3.11/dist-packages (from aiohttp->datasets) (1.18.3)\n",
            "Requirement already satisfied: typing-extensions>=3.7.4.3 in /usr/local/lib/python3.11/dist-packages (from huggingface-hub>=0.24.0->datasets) (4.12.2)\n",
            "Requirement already satisfied: charset-normalizer<4,>=2 in /usr/local/lib/python3.11/dist-packages (from requests>=2.32.2->datasets) (3.4.1)\n",
            "Requirement already satisfied: idna<4,>=2.5 in /usr/local/lib/python3.11/dist-packages (from requests>=2.32.2->datasets) (3.10)\n",
            "Requirement already satisfied: urllib3<3,>=1.21.1 in /usr/local/lib/python3.11/dist-packages (from requests>=2.32.2->datasets) (2.3.0)\n",
            "Requirement already satisfied: certifi>=2017.4.17 in /usr/local/lib/python3.11/dist-packages (from requests>=2.32.2->datasets) (2025.1.31)\n",
            "Requirement already satisfied: python-dateutil>=2.8.2 in /usr/local/lib/python3.11/dist-packages (from pandas->datasets) (2.8.2)\n",
            "Requirement already satisfied: pytz>=2020.1 in /usr/local/lib/python3.11/dist-packages (from pandas->datasets) (2025.1)\n",
            "Requirement already satisfied: tzdata>=2022.7 in /usr/local/lib/python3.11/dist-packages (from pandas->datasets) (2025.1)\n",
            "Requirement already satisfied: six>=1.5 in /usr/local/lib/python3.11/dist-packages (from python-dateutil>=2.8.2->pandas->datasets) (1.17.0)\n",
            "Downloading datasets-3.3.1-py3-none-any.whl (484 kB)\n",
            "\u001b[2K   \u001b[90m━━━━━━━━━━━━━━━━━━━━━━━━━━━━━━━━━━━━━━━━\u001b[0m \u001b[32m484.9/484.9 kB\u001b[0m \u001b[31m26.2 MB/s\u001b[0m eta \u001b[36m0:00:00\u001b[0m\n",
            "\u001b[?25hDownloading dill-0.3.8-py3-none-any.whl (116 kB)\n",
            "\u001b[2K   \u001b[90m━━━━━━━━━━━━━━━━━━━━━━━━━━━━━━━━━━━━━━━━\u001b[0m \u001b[32m116.3/116.3 kB\u001b[0m \u001b[31m10.3 MB/s\u001b[0m eta \u001b[36m0:00:00\u001b[0m\n",
            "\u001b[?25hDownloading multiprocess-0.70.16-py311-none-any.whl (143 kB)\n",
            "\u001b[2K   \u001b[90m━━━━━━━━━━━━━━━━━━━━━━━━━━━━━━━━━━━━━━━━\u001b[0m \u001b[32m143.5/143.5 kB\u001b[0m \u001b[31m12.9 MB/s\u001b[0m eta \u001b[36m0:00:00\u001b[0m\n",
            "\u001b[?25hDownloading xxhash-3.5.0-cp311-cp311-manylinux_2_17_x86_64.manylinux2014_x86_64.whl (194 kB)\n",
            "\u001b[2K   \u001b[90m━━━━━━━━━━━━━━━━━━━━━━━━━━━━━━━━━━━━━━━━\u001b[0m \u001b[32m194.8/194.8 kB\u001b[0m \u001b[31m18.1 MB/s\u001b[0m eta \u001b[36m0:00:00\u001b[0m\n",
            "\u001b[?25hInstalling collected packages: xxhash, dill, multiprocess, datasets\n",
            "Successfully installed datasets-3.3.1 dill-0.3.8 multiprocess-0.70.16 xxhash-3.5.0\n"
          ]
        }
      ]
    },
    {
      "cell_type": "code",
      "execution_count": 1,
      "metadata": {
        "id": "qOymObpl8U-G"
      },
      "outputs": [],
      "source": [
        "import pandas as pd\n",
        "import numpy as np\n",
        "import torch as t"
      ]
    },
    {
      "cell_type": "code",
      "source": [
        "train_data = pd.read_excel(\"/content/sample_data/train_dataset.xlsx\")\n",
        "valid_data = pd.read_excel(\"/content/sample_data/valid_dataset.xlsx\")"
      ],
      "metadata": {
        "id": "xohSvWNm8xrG"
      },
      "execution_count": 2,
      "outputs": []
    },
    {
      "cell_type": "markdown",
      "source": [
        "# Modeling\n",
        "\n",
        "---\n",
        "\n",
        "Подготовим модель, подберем параметры обучения и оценим модель на тестовой выборке"
      ],
      "metadata": {
        "id": "yvKGPlHjZ2Gr"
      }
    },
    {
      "cell_type": "code",
      "source": [
        "from dataclasses import dataclass\n",
        "\n",
        "@dataclass\n",
        "class Config:\n",
        "    model_name = \"cointegrated/rubert-tiny-sentiment-balanced\"  # \"blanchefort/rubert-base-cased-sentiment\"\n",
        "    new_model = \"seq-cls-ft-system\"\n",
        "    wb_token = 'bab00ed6b8ec6a868aef6917554e2eee8a723676'\n",
        "\n",
        "config = Config()"
      ],
      "metadata": {
        "id": "iASh02fu9lyr"
      },
      "execution_count": 3,
      "outputs": []
    },
    {
      "cell_type": "code",
      "source": [
        "import wandb\n",
        "\n",
        "# Зайдем в W&B\n",
        "wandb.finish()\n",
        "wandb.login(key=config.wb_token)\n",
        "\n",
        "run = wandb.init(\n",
        "    project='Fine-tune Pre-Trained SEQ-CLS',\n",
        "    job_type=\"training\"\n",
        ")"
      ],
      "metadata": {
        "colab": {
          "base_uri": "https://localhost:8080/",
          "height": 835
        },
        "id": "ZsPrl1LDZsZB",
        "outputId": "8f418318-4ea5-4589-d529-33495404dd7e"
      },
      "execution_count": 20,
      "outputs": [
        {
          "output_type": "display_data",
          "data": {
            "text/plain": [
              "<IPython.core.display.HTML object>"
            ],
            "text/html": []
          },
          "metadata": {}
        },
        {
          "output_type": "display_data",
          "data": {
            "text/plain": [
              "<IPython.core.display.HTML object>"
            ],
            "text/html": [
              "<br>    <style><br>        .wandb-row {<br>            display: flex;<br>            flex-direction: row;<br>            flex-wrap: wrap;<br>            justify-content: flex-start;<br>            width: 100%;<br>        }<br>        .wandb-col {<br>            display: flex;<br>            flex-direction: column;<br>            flex-basis: 100%;<br>            flex: 1;<br>            padding: 10px;<br>        }<br>    </style><br><div class=\"wandb-row\"><div class=\"wandb-col\"><h3>Run history:</h3><br/><table class=\"wandb\"><tr><td>eval/loss</td><td>█▁</td></tr><tr><td>eval/recall</td><td>█▁</td></tr><tr><td>eval/runtime</td><td>▁█</td></tr><tr><td>eval/samples_per_second</td><td>█▁</td></tr><tr><td>eval/steps_per_second</td><td>█▁</td></tr><tr><td>train/epoch</td><td>▁▂▂▃▃▄▄▅▆▆▇▇██</td></tr><tr><td>train/global_step</td><td>▁▂▂▃▄▄▄▅▅▆▇▇██</td></tr><tr><td>train/grad_norm</td><td>▄▄▄▃▂▂█▄▂▅▁▄</td></tr><tr><td>train/learning_rate</td><td>▁▂▂▃▄▄▅▅▆▇▇█</td></tr><tr><td>train/loss</td><td>▂▃▃▁▁▁█▁▂▃▂▂</td></tr></table><br/></div><div class=\"wandb-col\"><h3>Run summary:</h3><br/><table class=\"wandb\"><tr><td>eval/loss</td><td>0.92258</td></tr><tr><td>eval/recall</td><td>0.48292</td></tr><tr><td>eval/runtime</td><td>0.3178</td></tr><tr><td>eval/samples_per_second</td><td>305.211</td></tr><tr><td>eval/steps_per_second</td><td>31.465</td></tr><tr><td>train/epoch</td><td>1.88889</td></tr><tr><td>train/global_step</td><td>12</td></tr><tr><td>train/grad_norm</td><td>2.60927</td></tr><tr><td>train/learning_rate</td><td>0.0</td></tr><tr><td>train/loss</td><td>1.0348</td></tr></table><br/></div></div>"
            ]
          },
          "metadata": {}
        },
        {
          "output_type": "display_data",
          "data": {
            "text/plain": [
              "<IPython.core.display.HTML object>"
            ],
            "text/html": [
              " View run <strong style=\"color:#cdcd00\">seq-cls-ft-system</strong> at: <a href='https://wandb.ai/khhha_pffuuuu-saint-petersburg-state-university/huggingface/runs/crsf3tfd' target=\"_blank\">https://wandb.ai/khhha_pffuuuu-saint-petersburg-state-university/huggingface/runs/crsf3tfd</a><br> View project at: <a href='https://wandb.ai/khhha_pffuuuu-saint-petersburg-state-university/huggingface' target=\"_blank\">https://wandb.ai/khhha_pffuuuu-saint-petersburg-state-university/huggingface</a><br>Synced 5 W&B file(s), 0 media file(s), 0 artifact file(s) and 0 other file(s)"
            ]
          },
          "metadata": {}
        },
        {
          "output_type": "display_data",
          "data": {
            "text/plain": [
              "<IPython.core.display.HTML object>"
            ],
            "text/html": [
              "Find logs at: <code>./wandb/run-20250217_172131-crsf3tfd/logs</code>"
            ]
          },
          "metadata": {}
        },
        {
          "output_type": "stream",
          "name": "stderr",
          "text": [
            "\u001b[34m\u001b[1mwandb\u001b[0m: \u001b[33mWARNING\u001b[0m If you're specifying your api key in code, ensure this code is not shared publicly.\n",
            "\u001b[34m\u001b[1mwandb\u001b[0m: \u001b[33mWARNING\u001b[0m Consider setting the WANDB_API_KEY environment variable, or running `wandb login` from the command line.\n",
            "\u001b[34m\u001b[1mwandb\u001b[0m: Appending key for api.wandb.ai to your netrc file: /root/.netrc\n"
          ]
        },
        {
          "output_type": "display_data",
          "data": {
            "text/plain": [
              "<IPython.core.display.HTML object>"
            ],
            "text/html": [
              "Tracking run with wandb version 0.19.6"
            ]
          },
          "metadata": {}
        },
        {
          "output_type": "display_data",
          "data": {
            "text/plain": [
              "<IPython.core.display.HTML object>"
            ],
            "text/html": [
              "Run data is saved locally in <code>/content/wandb/run-20250217_172210-p9908fei</code>"
            ]
          },
          "metadata": {}
        },
        {
          "output_type": "display_data",
          "data": {
            "text/plain": [
              "<IPython.core.display.HTML object>"
            ],
            "text/html": [
              "Syncing run <strong><a href='https://wandb.ai/khhha_pffuuuu-saint-petersburg-state-university/Fine-tune%20Pre-Trained%20SEQ-CLS/runs/p9908fei' target=\"_blank\">jolly-pyramid-5</a></strong> to <a href='https://wandb.ai/khhha_pffuuuu-saint-petersburg-state-university/Fine-tune%20Pre-Trained%20SEQ-CLS' target=\"_blank\">Weights & Biases</a> (<a href='https://wandb.me/developer-guide' target=\"_blank\">docs</a>)<br>"
            ]
          },
          "metadata": {}
        },
        {
          "output_type": "display_data",
          "data": {
            "text/plain": [
              "<IPython.core.display.HTML object>"
            ],
            "text/html": [
              " View project at <a href='https://wandb.ai/khhha_pffuuuu-saint-petersburg-state-university/Fine-tune%20Pre-Trained%20SEQ-CLS' target=\"_blank\">https://wandb.ai/khhha_pffuuuu-saint-petersburg-state-university/Fine-tune%20Pre-Trained%20SEQ-CLS</a>"
            ]
          },
          "metadata": {}
        },
        {
          "output_type": "display_data",
          "data": {
            "text/plain": [
              "<IPython.core.display.HTML object>"
            ],
            "text/html": [
              " View run at <a href='https://wandb.ai/khhha_pffuuuu-saint-petersburg-state-university/Fine-tune%20Pre-Trained%20SEQ-CLS/runs/p9908fei' target=\"_blank\">https://wandb.ai/khhha_pffuuuu-saint-petersburg-state-university/Fine-tune%20Pre-Trained%20SEQ-CLS/runs/p9908fei</a>"
            ]
          },
          "metadata": {}
        }
      ]
    },
    {
      "cell_type": "code",
      "source": [
        "from torch import nn\n",
        "\n",
        "from transformers import AutoModelForSequenceClassification, AutoTokenizer\n",
        "\n",
        "# Модель\n",
        "tokenizer = AutoTokenizer.from_pretrained(config.model_name)\n",
        "model = AutoModelForSequenceClassification.from_pretrained(config.model_name)\n",
        "\n",
        "# Заменяем последний слой и остальные замораживаем\n",
        "for name, param in model.named_parameters():\n",
        "    if \"bert.encoder.layer.2\" in name:\n",
        "        break\n",
        "    else:\n",
        "        param.requires_grad = False\n",
        "\n",
        "# nn.init.kaiming_uniform_(model.classifier.weight)\n",
        "nn.init.xavier_uniform_(model.classifier.weight)\n",
        "nn.init.zeros_(model.classifier.bias);"
      ],
      "metadata": {
        "id": "durXKeIr98jr"
      },
      "execution_count": 28,
      "outputs": []
    },
    {
      "cell_type": "code",
      "source": [
        "from datasets import Dataset\n",
        "from tqdm.notebook import tqdm\n",
        "\n",
        "\n",
        "def preprocess_function(examples):\n",
        "    inputs = tokenizer(\n",
        "        examples['MessageText'],\n",
        "        truncation=True,\n",
        "        padding='max_length',\n",
        "        max_length=256,\n",
        "        return_tensors=\"pt\"\n",
        "    )\n",
        "\n",
        "    return inputs\n",
        "\n",
        "train_dataset = Dataset.from_pandas(train_data).map(preprocess_function, batched=True)\n",
        "valid_dataset = Dataset.from_pandas(valid_data).map(preprocess_function, batched=True)"
      ],
      "metadata": {
        "colab": {
          "base_uri": "https://localhost:8080/",
          "height": 81,
          "referenced_widgets": [
            "a2087d6433364cd78c6426654f63f2b6",
            "b4cc19c491a64f5b85a16009695c68c0",
            "0cc05b1637534f62a20b2da1b331c5e6",
            "6fd93f57647a4ef3b64e4f1b62cb68bb",
            "660c6353232241e3ace2d9cc2e74b1e6",
            "e8602f382dc6416d9cc193295215f4f1",
            "c1b5cfb526f64670b5bc49c50e96ce24",
            "52cda2ae506b42cd8d812ecc08a2270e",
            "e58c8cb372f2428a90b1e726bfe731e9",
            "7e19eb12bb4145c18e81c3dd6e1eba9d",
            "d63d2f8409e04945871b05b1d65197ec",
            "27fa982122974fb9896dabe1f8c4ad93",
            "31ef9022580f423f9359fff6d749a203",
            "7236a3315d024650a62a78c2f82c3b08",
            "583b84fd6c834b6dbb79c82a33dc0606",
            "e68cd62bcc704a8692030ba8035efcf2",
            "bb4914a5a57e4a0db2a7eac78305366e",
            "0bb3eb5c5d574ad19cb9ecd7b5b124e6",
            "d29ccff0d55244b48fb90bc9ac236b1e",
            "8b965cba6942462e808701847a333516",
            "983d03d045154a649dd7fa776620a683",
            "88393f5378374317bf344f3bee3d6fea"
          ]
        },
        "id": "DZ2AEg9r-Lgr",
        "outputId": "bc1109f3-379b-43f9-c8f1-c2ce470e0020"
      },
      "execution_count": 29,
      "outputs": [
        {
          "output_type": "display_data",
          "data": {
            "text/plain": [
              "Map:   0%|          | 0/1697 [00:00<?, ? examples/s]"
            ],
            "application/vnd.jupyter.widget-view+json": {
              "version_major": 2,
              "version_minor": 0,
              "model_id": "a2087d6433364cd78c6426654f63f2b6"
            }
          },
          "metadata": {}
        },
        {
          "output_type": "display_data",
          "data": {
            "text/plain": [
              "Map:   0%|          | 0/97 [00:00<?, ? examples/s]"
            ],
            "application/vnd.jupyter.widget-view+json": {
              "version_major": 2,
              "version_minor": 0,
              "model_id": "27fa982122974fb9896dabe1f8c4ad93"
            }
          },
          "metadata": {}
        }
      ]
    },
    {
      "cell_type": "code",
      "source": [
        "from transformers import (Trainer, TrainingArguments,\n",
        "                          EarlyStoppingCallback, AdamW)\n",
        "\n",
        "from sklearn.metrics import recall_score\n",
        "\n",
        "# Зададим метрику\n",
        "def compute_metrics(eval_pred):\n",
        "    logits, labels = eval_pred\n",
        "    predictions = np.argmax(logits, axis=1)\n",
        "    predictions = np.argmax(logits, axis=1)\n",
        "\n",
        "    rec = recall_score(labels, predictions, average=\"macro\")\n",
        "\n",
        "    return {\"eval_recall\": rec}\n",
        "\n",
        "# Адаптируем оптимизатор под нашу модель\n",
        "class CustomTrainer(Trainer):\n",
        "    def create_optimizer(self):\n",
        "        if self.optimizer is None:\n",
        "            self.optimizer = AdamW([\n",
        "                {\"params\": self.model.bert.encoder.layer[2:].parameters(), \"lr\": 2e-5},\n",
        "                {\"params\": self.model.classifier.parameters(), \"lr\": 1e-4},\n",
        "            ], weight_decay=0.1)\n",
        "        return self.optimizer"
      ],
      "metadata": {
        "id": "XgHXEOgG1-bY"
      },
      "execution_count": 30,
      "outputs": []
    },
    {
      "cell_type": "code",
      "source": [
        "# Зададим параметры тренера\n",
        "model.to('cuda')\n",
        "model.train()\n",
        "\n",
        "training_args = TrainingArguments(\n",
        "    output_dir=config.new_model,\n",
        "    per_device_train_batch_size=64,\n",
        "    per_device_eval_batch_size=10,\n",
        "    gradient_accumulation_steps=4,\n",
        "    dataloader_num_workers=2,\n",
        "    num_train_epochs=50,\n",
        "    # weight_decay=0.1,\n",
        "    # learning_rate=3e-5,\n",
        "    # optim=\"adamw_torch\",\n",
        "    lr_scheduler_type='cosine',\n",
        "    warmup_steps=150,\n",
        "    eval_strategy=\"epoch\",\n",
        "    save_strategy=\"epoch\",\n",
        "    load_best_model_at_end=True,\n",
        "    metric_for_best_model=\"eval_recall\",\n",
        "    greater_is_better=True,\n",
        "    eval_steps=1,\n",
        "    logging_steps=1,\n",
        "    report_to=\"wandb\"\n",
        ")\n",
        "\n",
        "trainer = CustomTrainer(\n",
        "    model=model,\n",
        "    train_dataset=train_dataset,\n",
        "    eval_dataset=valid_dataset,\n",
        "    args=training_args,\n",
        "    compute_metrics=compute_metrics,\n",
        "    callbacks=[EarlyStoppingCallback(early_stopping_patience=15, early_stopping_threshold=0.001)]\n",
        ")"
      ],
      "metadata": {
        "id": "ZnhuJHWs-Vjj"
      },
      "execution_count": 31,
      "outputs": []
    },
    {
      "cell_type": "code",
      "source": [
        "trainer.train()"
      ],
      "metadata": {
        "colab": {
          "base_uri": "https://localhost:8080/",
          "height": 1000
        },
        "id": "J5-o86wa-y7z",
        "outputId": "d305a94b-daf0-4b24-9dbb-8833c5411738"
      },
      "execution_count": 32,
      "outputs": [
        {
          "output_type": "stream",
          "name": "stderr",
          "text": [
            "/usr/local/lib/python3.11/dist-packages/transformers/optimization.py:591: FutureWarning: This implementation of AdamW is deprecated and will be removed in a future version. Use the PyTorch implementation torch.optim.AdamW instead, or set `no_deprecation_warning=True` to disable this warning\n",
            "  warnings.warn(\n"
          ]
        },
        {
          "output_type": "display_data",
          "data": {
            "text/plain": [
              "<IPython.core.display.HTML object>"
            ],
            "text/html": [
              "\n",
              "    <div>\n",
              "      \n",
              "      <progress value='300' max='300' style='width:300px; height:20px; vertical-align: middle;'></progress>\n",
              "      [300/300 02:32, Epoch 49/50]\n",
              "    </div>\n",
              "    <table border=\"1\" class=\"dataframe\">\n",
              "  <thead>\n",
              " <tr style=\"text-align: left;\">\n",
              "      <th>Epoch</th>\n",
              "      <th>Training Loss</th>\n",
              "      <th>Validation Loss</th>\n",
              "      <th>Recall</th>\n",
              "    </tr>\n",
              "  </thead>\n",
              "  <tbody>\n",
              "    <tr>\n",
              "      <td>0</td>\n",
              "      <td>1.152700</td>\n",
              "      <td>1.201915</td>\n",
              "      <td>0.336524</td>\n",
              "    </tr>\n",
              "    <tr>\n",
              "      <td>1</td>\n",
              "      <td>1.169900</td>\n",
              "      <td>1.197850</td>\n",
              "      <td>0.336524</td>\n",
              "    </tr>\n",
              "    <tr>\n",
              "      <td>2</td>\n",
              "      <td>1.127900</td>\n",
              "      <td>1.190883</td>\n",
              "      <td>0.336524</td>\n",
              "    </tr>\n",
              "    <tr>\n",
              "      <td>3</td>\n",
              "      <td>1.152600</td>\n",
              "      <td>1.181293</td>\n",
              "      <td>0.343468</td>\n",
              "    </tr>\n",
              "    <tr>\n",
              "      <td>4</td>\n",
              "      <td>1.113500</td>\n",
              "      <td>1.169047</td>\n",
              "      <td>0.371246</td>\n",
              "    </tr>\n",
              "    <tr>\n",
              "      <td>5</td>\n",
              "      <td>1.073400</td>\n",
              "      <td>1.154346</td>\n",
              "      <td>0.408033</td>\n",
              "    </tr>\n",
              "    <tr>\n",
              "      <td>6</td>\n",
              "      <td>1.075300</td>\n",
              "      <td>1.137416</td>\n",
              "      <td>0.428866</td>\n",
              "    </tr>\n",
              "    <tr>\n",
              "      <td>7</td>\n",
              "      <td>1.024100</td>\n",
              "      <td>1.118517</td>\n",
              "      <td>0.410098</td>\n",
              "    </tr>\n",
              "    <tr>\n",
              "      <td>8</td>\n",
              "      <td>1.115700</td>\n",
              "      <td>1.097881</td>\n",
              "      <td>0.417042</td>\n",
              "    </tr>\n",
              "    <tr>\n",
              "      <td>9</td>\n",
              "      <td>1.052600</td>\n",
              "      <td>1.076105</td>\n",
              "      <td>0.423986</td>\n",
              "    </tr>\n",
              "    <tr>\n",
              "      <td>10</td>\n",
              "      <td>1.033700</td>\n",
              "      <td>1.052604</td>\n",
              "      <td>0.446884</td>\n",
              "    </tr>\n",
              "    <tr>\n",
              "      <td>11</td>\n",
              "      <td>0.998800</td>\n",
              "      <td>1.028474</td>\n",
              "      <td>0.455893</td>\n",
              "    </tr>\n",
              "    <tr>\n",
              "      <td>12</td>\n",
              "      <td>0.989000</td>\n",
              "      <td>1.004320</td>\n",
              "      <td>0.501689</td>\n",
              "    </tr>\n",
              "    <tr>\n",
              "      <td>13</td>\n",
              "      <td>0.928800</td>\n",
              "      <td>0.979823</td>\n",
              "      <td>0.536411</td>\n",
              "    </tr>\n",
              "    <tr>\n",
              "      <td>14</td>\n",
              "      <td>0.912400</td>\n",
              "      <td>0.955689</td>\n",
              "      <td>0.578078</td>\n",
              "    </tr>\n",
              "    <tr>\n",
              "      <td>15</td>\n",
              "      <td>0.882400</td>\n",
              "      <td>0.931884</td>\n",
              "      <td>0.600976</td>\n",
              "    </tr>\n",
              "    <tr>\n",
              "      <td>16</td>\n",
              "      <td>0.828700</td>\n",
              "      <td>0.909406</td>\n",
              "      <td>0.594032</td>\n",
              "    </tr>\n",
              "    <tr>\n",
              "      <td>17</td>\n",
              "      <td>0.849500</td>\n",
              "      <td>0.887312</td>\n",
              "      <td>0.618994</td>\n",
              "    </tr>\n",
              "    <tr>\n",
              "      <td>18</td>\n",
              "      <td>0.813400</td>\n",
              "      <td>0.866163</td>\n",
              "      <td>0.618994</td>\n",
              "    </tr>\n",
              "    <tr>\n",
              "      <td>19</td>\n",
              "      <td>0.784100</td>\n",
              "      <td>0.848363</td>\n",
              "      <td>0.625938</td>\n",
              "    </tr>\n",
              "    <tr>\n",
              "      <td>20</td>\n",
              "      <td>0.795000</td>\n",
              "      <td>0.833392</td>\n",
              "      <td>0.653716</td>\n",
              "    </tr>\n",
              "    <tr>\n",
              "      <td>21</td>\n",
              "      <td>0.696100</td>\n",
              "      <td>0.820041</td>\n",
              "      <td>0.644707</td>\n",
              "    </tr>\n",
              "    <tr>\n",
              "      <td>22</td>\n",
              "      <td>0.696300</td>\n",
              "      <td>0.806095</td>\n",
              "      <td>0.637763</td>\n",
              "    </tr>\n",
              "    <tr>\n",
              "      <td>23</td>\n",
              "      <td>0.672200</td>\n",
              "      <td>0.794099</td>\n",
              "      <td>0.683559</td>\n",
              "    </tr>\n",
              "    <tr>\n",
              "      <td>24</td>\n",
              "      <td>0.620800</td>\n",
              "      <td>0.777689</td>\n",
              "      <td>0.690503</td>\n",
              "    </tr>\n",
              "    <tr>\n",
              "      <td>25</td>\n",
              "      <td>0.721300</td>\n",
              "      <td>0.765208</td>\n",
              "      <td>0.690503</td>\n",
              "    </tr>\n",
              "    <tr>\n",
              "      <td>26</td>\n",
              "      <td>0.611600</td>\n",
              "      <td>0.757396</td>\n",
              "      <td>0.690503</td>\n",
              "    </tr>\n",
              "    <tr>\n",
              "      <td>27</td>\n",
              "      <td>0.649700</td>\n",
              "      <td>0.746261</td>\n",
              "      <td>0.678679</td>\n",
              "    </tr>\n",
              "    <tr>\n",
              "      <td>28</td>\n",
              "      <td>0.506100</td>\n",
              "      <td>0.738182</td>\n",
              "      <td>0.696697</td>\n",
              "    </tr>\n",
              "    <tr>\n",
              "      <td>29</td>\n",
              "      <td>0.590900</td>\n",
              "      <td>0.734657</td>\n",
              "      <td>0.696697</td>\n",
              "    </tr>\n",
              "    <tr>\n",
              "      <td>30</td>\n",
              "      <td>0.585500</td>\n",
              "      <td>0.727452</td>\n",
              "      <td>0.703641</td>\n",
              "    </tr>\n",
              "    <tr>\n",
              "      <td>31</td>\n",
              "      <td>0.506300</td>\n",
              "      <td>0.724935</td>\n",
              "      <td>0.710586</td>\n",
              "    </tr>\n",
              "    <tr>\n",
              "      <td>32</td>\n",
              "      <td>0.504600</td>\n",
              "      <td>0.719157</td>\n",
              "      <td>0.717530</td>\n",
              "    </tr>\n",
              "    <tr>\n",
              "      <td>33</td>\n",
              "      <td>0.527400</td>\n",
              "      <td>0.708337</td>\n",
              "      <td>0.717530</td>\n",
              "    </tr>\n",
              "    <tr>\n",
              "      <td>34</td>\n",
              "      <td>0.525200</td>\n",
              "      <td>0.704072</td>\n",
              "      <td>0.724474</td>\n",
              "    </tr>\n",
              "    <tr>\n",
              "      <td>35</td>\n",
              "      <td>0.521800</td>\n",
              "      <td>0.700257</td>\n",
              "      <td>0.724474</td>\n",
              "    </tr>\n",
              "    <tr>\n",
              "      <td>36</td>\n",
              "      <td>0.496300</td>\n",
              "      <td>0.698035</td>\n",
              "      <td>0.733483</td>\n",
              "    </tr>\n",
              "    <tr>\n",
              "      <td>37</td>\n",
              "      <td>0.550600</td>\n",
              "      <td>0.698855</td>\n",
              "      <td>0.733483</td>\n",
              "    </tr>\n",
              "    <tr>\n",
              "      <td>38</td>\n",
              "      <td>0.458500</td>\n",
              "      <td>0.695409</td>\n",
              "      <td>0.733483</td>\n",
              "    </tr>\n",
              "    <tr>\n",
              "      <td>39</td>\n",
              "      <td>0.457800</td>\n",
              "      <td>0.691871</td>\n",
              "      <td>0.733483</td>\n",
              "    </tr>\n",
              "    <tr>\n",
              "      <td>40</td>\n",
              "      <td>0.459200</td>\n",
              "      <td>0.690730</td>\n",
              "      <td>0.742492</td>\n",
              "    </tr>\n",
              "    <tr>\n",
              "      <td>41</td>\n",
              "      <td>0.487400</td>\n",
              "      <td>0.689266</td>\n",
              "      <td>0.742492</td>\n",
              "    </tr>\n",
              "    <tr>\n",
              "      <td>42</td>\n",
              "      <td>0.514100</td>\n",
              "      <td>0.689037</td>\n",
              "      <td>0.742492</td>\n",
              "    </tr>\n",
              "    <tr>\n",
              "      <td>43</td>\n",
              "      <td>0.474800</td>\n",
              "      <td>0.688423</td>\n",
              "      <td>0.749437</td>\n",
              "    </tr>\n",
              "    <tr>\n",
              "      <td>44</td>\n",
              "      <td>0.425200</td>\n",
              "      <td>0.688769</td>\n",
              "      <td>0.749437</td>\n",
              "    </tr>\n",
              "    <tr>\n",
              "      <td>45</td>\n",
              "      <td>0.467300</td>\n",
              "      <td>0.688666</td>\n",
              "      <td>0.749437</td>\n",
              "    </tr>\n",
              "    <tr>\n",
              "      <td>46</td>\n",
              "      <td>0.486800</td>\n",
              "      <td>0.688859</td>\n",
              "      <td>0.749437</td>\n",
              "    </tr>\n",
              "    <tr>\n",
              "      <td>47</td>\n",
              "      <td>0.454800</td>\n",
              "      <td>0.688934</td>\n",
              "      <td>0.749437</td>\n",
              "    </tr>\n",
              "    <tr>\n",
              "      <td>48</td>\n",
              "      <td>0.434100</td>\n",
              "      <td>0.688937</td>\n",
              "      <td>0.749437</td>\n",
              "    </tr>\n",
              "    <tr>\n",
              "      <td>49</td>\n",
              "      <td>0.454300</td>\n",
              "      <td>0.688933</td>\n",
              "      <td>0.749437</td>\n",
              "    </tr>\n",
              "  </tbody>\n",
              "</table><p>"
            ]
          },
          "metadata": {}
        },
        {
          "output_type": "execute_result",
          "data": {
            "text/plain": [
              "TrainOutput(global_step=300, training_loss=0.7589820127685865, metrics={'train_runtime': 153.8861, 'train_samples_per_second': 551.382, 'train_steps_per_second': 1.949, 'total_flos': 294770735087616.0, 'train_loss': 0.7589820127685865, 'epoch': 49.888888888888886})"
            ]
          },
          "metadata": {},
          "execution_count": 32
        }
      ]
    },
    {
      "cell_type": "markdown",
      "source": [
        "# Оценим модель\n",
        "\n",
        "---\n",
        "\n",
        "Импортируем два файла с тестовыми данными и посмотрим на оценки метрик"
      ],
      "metadata": {
        "id": "igYcJZYJYwpi"
      }
    },
    {
      "cell_type": "code",
      "source": [
        "from bs4 import BeautifulSoup\n",
        "\n",
        "fst_test_data = pd.read_excel(\"/content/sample_data/dataset_comments_35.xlsx\")\n",
        "snd_test_data = pd.read_excel(\"/content/sample_data/dataset_comments_100_test.xlsx\")\n",
        "\n",
        "# Зададим таргеты в виде индексов\n",
        "def html_to_text(html):\n",
        "    soup = BeautifulSoup(html, \"html.parser\")\n",
        "    text = soup.get_text(separator=\" \")\n",
        "    text = text.replace(\"\\xa0\", \" \")\n",
        "\n",
        "    return text.strip()\n",
        "\n",
        "d = {\n",
        "    'B': 0,\n",
        "    'N': 1,\n",
        "    'G': 2\n",
        "}\n",
        "\n",
        "fst_test_data.MessageText = fst_test_data.MessageText.apply(lambda x: html_to_text(x))\n",
        "fst_test_data.labels = fst_test_data.labels.apply(lambda x: d[x.strip()])\n",
        "\n",
        "snd_test_data.MessageText = snd_test_data.MessageText.apply(lambda x: html_to_text(x))\n",
        "snd_test_data.labels = snd_test_data.labels.apply(lambda x: d[x.strip()])"
      ],
      "metadata": {
        "id": "ix8BIEstZbKe"
      },
      "execution_count": 33,
      "outputs": []
    },
    {
      "cell_type": "code",
      "source": [
        "from torch.nn import functional as f\n",
        "\n",
        "for data in [fst_test_data, snd_test_data]:\n",
        "    pred = np.empty(data.shape[0])\n",
        "\n",
        "    model.eval()\n",
        "    model.to('cpu')\n",
        "    for i in range(data.shape[0]):\n",
        "        text = html_to_text(data.iloc[i]['MessageText'])\n",
        "        inputs = tokenizer(text, truncation=True, max_length=256, return_tensors='pt')\n",
        "        with t.no_grad():\n",
        "            logits = model(**inputs).logits\n",
        "        probs = f.softmax(logits, dim=-1)\n",
        "        pred[i] = t.argmax(probs, dim=-1).item()\n",
        "\n",
        "    from sklearn.metrics import classification_report, recall_score\n",
        "\n",
        "    print(classification_report(data.labels.astype(int), pred), end='\\n\\n\\n')"
      ],
      "metadata": {
        "colab": {
          "base_uri": "https://localhost:8080/"
        },
        "id": "BGTF7NqlabuX",
        "outputId": "c7f63b4d-ac61-4236-df91-193371c22ceb"
      },
      "execution_count": 34,
      "outputs": [
        {
          "output_type": "stream",
          "name": "stdout",
          "text": [
            "              precision    recall  f1-score   support\n",
            "\n",
            "           0       0.82      0.82      0.82        11\n",
            "           1       0.67      0.67      0.67         3\n",
            "           2       0.95      0.95      0.95        20\n",
            "\n",
            "    accuracy                           0.88        34\n",
            "   macro avg       0.81      0.81      0.81        34\n",
            "weighted avg       0.88      0.88      0.88        34\n",
            "\n",
            "\n",
            "\n",
            "              precision    recall  f1-score   support\n",
            "\n",
            "           0       0.67      0.63      0.65        19\n",
            "           1       0.71      0.68      0.70        22\n",
            "           2       0.89      0.92      0.90        59\n",
            "\n",
            "    accuracy                           0.81       100\n",
            "   macro avg       0.76      0.74      0.75       100\n",
            "weighted avg       0.81      0.81      0.81       100\n",
            "\n",
            "\n",
            "\n"
          ]
        }
      ]
    },
    {
      "cell_type": "code",
      "source": [
        "# Сохраним модель\n",
        "model.save_pretrained('/content/model')\n",
        "tokenizer.save_pretrained('/content/tokenizer')"
      ],
      "metadata": {
        "id": "IHd568gtdM46",
        "colab": {
          "base_uri": "https://localhost:8080/"
        },
        "outputId": "3721f2e9-a7ae-4fb7-b2b0-f53052f174e1"
      },
      "execution_count": 42,
      "outputs": [
        {
          "output_type": "execute_result",
          "data": {
            "text/plain": [
              "('/content/tokenizer/tokenizer_config.json',\n",
              " '/content/tokenizer/special_tokens_map.json',\n",
              " '/content/tokenizer/vocab.txt',\n",
              " '/content/tokenizer/added_tokens.json',\n",
              " '/content/tokenizer/tokenizer.json')"
            ]
          },
          "metadata": {},
          "execution_count": 42
        }
      ]
    },
    {
      "cell_type": "code",
      "source": [
        "!zip -r '/content/model.zip' '/content/model'\n",
        "!zip -r '/content/tokenizer.zip' '/content/tokenizer'"
      ],
      "metadata": {
        "colab": {
          "base_uri": "https://localhost:8080/"
        },
        "id": "jtP6Gs3hx_YW",
        "outputId": "52774cae-151f-42c2-cc4d-9868d2b88e0a"
      },
      "execution_count": 27,
      "outputs": [
        {
          "output_type": "stream",
          "name": "stdout",
          "text": [
            "  adding: content/model/ (stored 0%)\n",
            "  adding: content/model/config.json (deflated 51%)\n",
            "  adding: content/model/model.safetensors (deflated 8%)\n",
            "  adding: content/tokenizer/ (stored 0%)\n",
            "  adding: content/tokenizer/tokenizer.json (deflated 70%)\n",
            "  adding: content/tokenizer/tokenizer_config.json (deflated 74%)\n",
            "  adding: content/tokenizer/special_tokens_map.json (deflated 80%)\n",
            "  adding: content/tokenizer/vocab.txt (deflated 52%)\n"
          ]
        }
      ]
    },
    {
      "cell_type": "code",
      "source": [],
      "metadata": {
        "id": "TZKh630EyEJ8"
      },
      "execution_count": null,
      "outputs": []
    }
  ]
}