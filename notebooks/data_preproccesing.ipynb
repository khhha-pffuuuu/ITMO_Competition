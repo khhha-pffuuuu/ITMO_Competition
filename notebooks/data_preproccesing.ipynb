{
  "nbformat": 4,
  "nbformat_minor": 0,
  "metadata": {
    "colab": {
      "provenance": []
    },
    "kernelspec": {
      "name": "python3",
      "display_name": "Python 3"
    },
    "language_info": {
      "name": "python"
    }
  },
  "cells": [
    {
      "cell_type": "code",
      "source": [
        "!pip install openpyxl"
      ],
      "metadata": {
        "colab": {
          "base_uri": "https://localhost:8080/"
        },
        "id": "Jt8UEVG9mI8N",
        "outputId": "43fcbb9c-238c-4123-e81f-7cf197b64f8b"
      },
      "execution_count": 1,
      "outputs": [
        {
          "output_type": "stream",
          "name": "stdout",
          "text": [
            "Requirement already satisfied: openpyxl in /usr/local/lib/python3.11/dist-packages (3.1.5)\n",
            "Requirement already satisfied: et-xmlfile in /usr/local/lib/python3.11/dist-packages (from openpyxl) (2.0.0)\n"
          ]
        }
      ]
    },
    {
      "cell_type": "code",
      "execution_count": 7,
      "metadata": {
        "id": "j6JiSV8zmDew"
      },
      "outputs": [],
      "source": [
        "import pandas as pd\n",
        "import numpy as np\n",
        "\n",
        "import torch as t\n",
        "import torch.nn.functional as f\n",
        "\n",
        "from tqdm.notebook import trange, tqdm\n",
        "\n",
        "from bs4 import BeautifulSoup\n",
        "\n",
        "from transformers import pipeline, AutoModelForSequenceClassification, AutoTokenizer"
      ]
    },
    {
      "cell_type": "markdown",
      "source": [
        "# Импорт и обработка данных"
      ],
      "metadata": {
        "id": "VSZbRiB8no4M"
      }
    },
    {
      "cell_type": "code",
      "source": [
        "data = pd.read_excel('/content/sample_data/dataset_comments.xlsx').drop(['UserSenderId', 'SubmitDate'], axis=1)"
      ],
      "metadata": {
        "id": "BmhrunlcmfeG"
      },
      "execution_count": 4,
      "outputs": []
    },
    {
      "cell_type": "code",
      "source": [
        "from bs4 import BeautifulSoup\n",
        "\n",
        "# Удалим html теги\n",
        "def html_to_text(html):\n",
        "    soup = BeautifulSoup(html, \"html.parser\")\n",
        "    text = soup.get_text(separator=\" \")\n",
        "    text = text.replace(\"\\xa0\", \" \")\n",
        "    return text.strip()\n",
        "\n",
        "data.MessageText = data.MessageText.apply(lambda x: html_to_text(x))"
      ],
      "metadata": {
        "id": "-cF1848Vm4vB"
      },
      "execution_count": 5,
      "outputs": []
    },
    {
      "cell_type": "code",
      "source": [
        "import re\n",
        "\n",
        "# Частично избавимся от \"шума\"\n",
        "def is_noise(text):\n",
        "    if len(text) < 3:  # Убираем слишком короткие строки\n",
        "        return True\n",
        "    if re.match(r\"^[\\W\\d_]+$\", text):  # Только символы и цифры\n",
        "        return True\n",
        "    if re.match(r\"^[a-zA-Z]+$\", text):  # Только латиница\n",
        "        return True\n",
        "    return False\n",
        "\n",
        "data = data[~data.MessageText.apply(is_noise)]"
      ],
      "metadata": {
        "id": "7JUT04hinJdQ"
      },
      "execution_count": 6,
      "outputs": []
    },
    {
      "cell_type": "code",
      "source": [],
      "metadata": {
        "id": "NzXgql_Y1IJ9"
      },
      "execution_count": null,
      "outputs": []
    }
  ]
}