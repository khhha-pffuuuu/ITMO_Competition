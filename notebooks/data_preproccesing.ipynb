{
  "nbformat": 4,
  "nbformat_minor": 0,
  "metadata": {
    "colab": {
      "provenance": [],
      "gpuType": "T4"
    },
    "kernelspec": {
      "name": "python3",
      "display_name": "Python 3 (ipykernel)",
      "language": "python"
    },
    "language_info": {
      "name": "python"
    },
    "widgets": {
      "application/vnd.jupyter.widget-state+json": {
        "17f40144236c4479b567a01327180eee": {
          "model_module": "@jupyter-widgets/controls",
          "model_name": "HBoxModel",
          "model_module_version": "1.5.0",
          "state": {
            "_dom_classes": [],
            "_model_module": "@jupyter-widgets/controls",
            "_model_module_version": "1.5.0",
            "_model_name": "HBoxModel",
            "_view_count": null,
            "_view_module": "@jupyter-widgets/controls",
            "_view_module_version": "1.5.0",
            "_view_name": "HBoxView",
            "box_style": "",
            "children": [
              "IPY_MODEL_a7c24344659347c2b94dd560d865cb11",
              "IPY_MODEL_15247d668ea244bbbb2070c45f4ba7af",
              "IPY_MODEL_0fb54e0fa63b4da4926890f36ca3cf6b"
            ],
            "layout": "IPY_MODEL_e56a708b0deb4508a432c0678715593a"
          }
        },
        "a7c24344659347c2b94dd560d865cb11": {
          "model_module": "@jupyter-widgets/controls",
          "model_name": "HTMLModel",
          "model_module_version": "1.5.0",
          "state": {
            "_dom_classes": [],
            "_model_module": "@jupyter-widgets/controls",
            "_model_module_version": "1.5.0",
            "_model_name": "HTMLModel",
            "_view_count": null,
            "_view_module": "@jupyter-widgets/controls",
            "_view_module_version": "1.5.0",
            "_view_name": "HTMLView",
            "description": "",
            "description_tooltip": null,
            "layout": "IPY_MODEL_44fdb5fe15604cc481359d9aed366189",
            "placeholder": "​",
            "style": "IPY_MODEL_0c1b9b7f76e84052acd2e5f208c119bb",
            "value": "100%"
          }
        },
        "15247d668ea244bbbb2070c45f4ba7af": {
          "model_module": "@jupyter-widgets/controls",
          "model_name": "FloatProgressModel",
          "model_module_version": "1.5.0",
          "state": {
            "_dom_classes": [],
            "_model_module": "@jupyter-widgets/controls",
            "_model_module_version": "1.5.0",
            "_model_name": "FloatProgressModel",
            "_view_count": null,
            "_view_module": "@jupyter-widgets/controls",
            "_view_module_version": "1.5.0",
            "_view_name": "ProgressView",
            "bar_style": "success",
            "description": "",
            "description_tooltip": null,
            "layout": "IPY_MODEL_75b7b6c6499448c9adb9bbee881674cf",
            "max": 150,
            "min": 0,
            "orientation": "horizontal",
            "style": "IPY_MODEL_e16a6e89884341dab1531ec00109eac3",
            "value": 150
          }
        },
        "0fb54e0fa63b4da4926890f36ca3cf6b": {
          "model_module": "@jupyter-widgets/controls",
          "model_name": "HTMLModel",
          "model_module_version": "1.5.0",
          "state": {
            "_dom_classes": [],
            "_model_module": "@jupyter-widgets/controls",
            "_model_module_version": "1.5.0",
            "_model_name": "HTMLModel",
            "_view_count": null,
            "_view_module": "@jupyter-widgets/controls",
            "_view_module_version": "1.5.0",
            "_view_name": "HTMLView",
            "description": "",
            "description_tooltip": null,
            "layout": "IPY_MODEL_fa70776d44794bd48fe206c123cec415",
            "placeholder": "​",
            "style": "IPY_MODEL_ee0242c62ddb47089b0e742e8f8305b3",
            "value": " 150/150 [01:26&lt;00:00,  2.43it/s]"
          }
        },
        "e56a708b0deb4508a432c0678715593a": {
          "model_module": "@jupyter-widgets/base",
          "model_name": "LayoutModel",
          "model_module_version": "1.2.0",
          "state": {
            "_model_module": "@jupyter-widgets/base",
            "_model_module_version": "1.2.0",
            "_model_name": "LayoutModel",
            "_view_count": null,
            "_view_module": "@jupyter-widgets/base",
            "_view_module_version": "1.2.0",
            "_view_name": "LayoutView",
            "align_content": null,
            "align_items": null,
            "align_self": null,
            "border": null,
            "bottom": null,
            "display": null,
            "flex": null,
            "flex_flow": null,
            "grid_area": null,
            "grid_auto_columns": null,
            "grid_auto_flow": null,
            "grid_auto_rows": null,
            "grid_column": null,
            "grid_gap": null,
            "grid_row": null,
            "grid_template_areas": null,
            "grid_template_columns": null,
            "grid_template_rows": null,
            "height": null,
            "justify_content": null,
            "justify_items": null,
            "left": null,
            "margin": null,
            "max_height": null,
            "max_width": null,
            "min_height": null,
            "min_width": null,
            "object_fit": null,
            "object_position": null,
            "order": null,
            "overflow": null,
            "overflow_x": null,
            "overflow_y": null,
            "padding": null,
            "right": null,
            "top": null,
            "visibility": null,
            "width": null
          }
        },
        "44fdb5fe15604cc481359d9aed366189": {
          "model_module": "@jupyter-widgets/base",
          "model_name": "LayoutModel",
          "model_module_version": "1.2.0",
          "state": {
            "_model_module": "@jupyter-widgets/base",
            "_model_module_version": "1.2.0",
            "_model_name": "LayoutModel",
            "_view_count": null,
            "_view_module": "@jupyter-widgets/base",
            "_view_module_version": "1.2.0",
            "_view_name": "LayoutView",
            "align_content": null,
            "align_items": null,
            "align_self": null,
            "border": null,
            "bottom": null,
            "display": null,
            "flex": null,
            "flex_flow": null,
            "grid_area": null,
            "grid_auto_columns": null,
            "grid_auto_flow": null,
            "grid_auto_rows": null,
            "grid_column": null,
            "grid_gap": null,
            "grid_row": null,
            "grid_template_areas": null,
            "grid_template_columns": null,
            "grid_template_rows": null,
            "height": null,
            "justify_content": null,
            "justify_items": null,
            "left": null,
            "margin": null,
            "max_height": null,
            "max_width": null,
            "min_height": null,
            "min_width": null,
            "object_fit": null,
            "object_position": null,
            "order": null,
            "overflow": null,
            "overflow_x": null,
            "overflow_y": null,
            "padding": null,
            "right": null,
            "top": null,
            "visibility": null,
            "width": null
          }
        },
        "0c1b9b7f76e84052acd2e5f208c119bb": {
          "model_module": "@jupyter-widgets/controls",
          "model_name": "DescriptionStyleModel",
          "model_module_version": "1.5.0",
          "state": {
            "_model_module": "@jupyter-widgets/controls",
            "_model_module_version": "1.5.0",
            "_model_name": "DescriptionStyleModel",
            "_view_count": null,
            "_view_module": "@jupyter-widgets/base",
            "_view_module_version": "1.2.0",
            "_view_name": "StyleView",
            "description_width": ""
          }
        },
        "75b7b6c6499448c9adb9bbee881674cf": {
          "model_module": "@jupyter-widgets/base",
          "model_name": "LayoutModel",
          "model_module_version": "1.2.0",
          "state": {
            "_model_module": "@jupyter-widgets/base",
            "_model_module_version": "1.2.0",
            "_model_name": "LayoutModel",
            "_view_count": null,
            "_view_module": "@jupyter-widgets/base",
            "_view_module_version": "1.2.0",
            "_view_name": "LayoutView",
            "align_content": null,
            "align_items": null,
            "align_self": null,
            "border": null,
            "bottom": null,
            "display": null,
            "flex": null,
            "flex_flow": null,
            "grid_area": null,
            "grid_auto_columns": null,
            "grid_auto_flow": null,
            "grid_auto_rows": null,
            "grid_column": null,
            "grid_gap": null,
            "grid_row": null,
            "grid_template_areas": null,
            "grid_template_columns": null,
            "grid_template_rows": null,
            "height": null,
            "justify_content": null,
            "justify_items": null,
            "left": null,
            "margin": null,
            "max_height": null,
            "max_width": null,
            "min_height": null,
            "min_width": null,
            "object_fit": null,
            "object_position": null,
            "order": null,
            "overflow": null,
            "overflow_x": null,
            "overflow_y": null,
            "padding": null,
            "right": null,
            "top": null,
            "visibility": null,
            "width": null
          }
        },
        "e16a6e89884341dab1531ec00109eac3": {
          "model_module": "@jupyter-widgets/controls",
          "model_name": "ProgressStyleModel",
          "model_module_version": "1.5.0",
          "state": {
            "_model_module": "@jupyter-widgets/controls",
            "_model_module_version": "1.5.0",
            "_model_name": "ProgressStyleModel",
            "_view_count": null,
            "_view_module": "@jupyter-widgets/base",
            "_view_module_version": "1.2.0",
            "_view_name": "StyleView",
            "bar_color": null,
            "description_width": ""
          }
        },
        "fa70776d44794bd48fe206c123cec415": {
          "model_module": "@jupyter-widgets/base",
          "model_name": "LayoutModel",
          "model_module_version": "1.2.0",
          "state": {
            "_model_module": "@jupyter-widgets/base",
            "_model_module_version": "1.2.0",
            "_model_name": "LayoutModel",
            "_view_count": null,
            "_view_module": "@jupyter-widgets/base",
            "_view_module_version": "1.2.0",
            "_view_name": "LayoutView",
            "align_content": null,
            "align_items": null,
            "align_self": null,
            "border": null,
            "bottom": null,
            "display": null,
            "flex": null,
            "flex_flow": null,
            "grid_area": null,
            "grid_auto_columns": null,
            "grid_auto_flow": null,
            "grid_auto_rows": null,
            "grid_column": null,
            "grid_gap": null,
            "grid_row": null,
            "grid_template_areas": null,
            "grid_template_columns": null,
            "grid_template_rows": null,
            "height": null,
            "justify_content": null,
            "justify_items": null,
            "left": null,
            "margin": null,
            "max_height": null,
            "max_width": null,
            "min_height": null,
            "min_width": null,
            "object_fit": null,
            "object_position": null,
            "order": null,
            "overflow": null,
            "overflow_x": null,
            "overflow_y": null,
            "padding": null,
            "right": null,
            "top": null,
            "visibility": null,
            "width": null
          }
        },
        "ee0242c62ddb47089b0e742e8f8305b3": {
          "model_module": "@jupyter-widgets/controls",
          "model_name": "DescriptionStyleModel",
          "model_module_version": "1.5.0",
          "state": {
            "_model_module": "@jupyter-widgets/controls",
            "_model_module_version": "1.5.0",
            "_model_name": "DescriptionStyleModel",
            "_view_count": null,
            "_view_module": "@jupyter-widgets/base",
            "_view_module_version": "1.2.0",
            "_view_name": "StyleView",
            "description_width": ""
          }
        },
        "df62b92599bf4f36b93c94db92584c17": {
          "model_module": "@jupyter-widgets/controls",
          "model_name": "HBoxModel",
          "model_module_version": "1.5.0",
          "state": {
            "_dom_classes": [],
            "_model_module": "@jupyter-widgets/controls",
            "_model_module_version": "1.5.0",
            "_model_name": "HBoxModel",
            "_view_count": null,
            "_view_module": "@jupyter-widgets/controls",
            "_view_module_version": "1.5.0",
            "_view_name": "HBoxView",
            "box_style": "",
            "children": [
              "IPY_MODEL_e13df4ce8621413eb34555b85376819b",
              "IPY_MODEL_8bad3db87d474da7bbe0d3fef6731864",
              "IPY_MODEL_54005635c9aa40499358b99ea86dcdaa"
            ],
            "layout": "IPY_MODEL_99c65f902b4f4c159e8604eb1ed8be59"
          }
        },
        "e13df4ce8621413eb34555b85376819b": {
          "model_module": "@jupyter-widgets/controls",
          "model_name": "HTMLModel",
          "model_module_version": "1.5.0",
          "state": {
            "_dom_classes": [],
            "_model_module": "@jupyter-widgets/controls",
            "_model_module_version": "1.5.0",
            "_model_name": "HTMLModel",
            "_view_count": null,
            "_view_module": "@jupyter-widgets/controls",
            "_view_module_version": "1.5.0",
            "_view_name": "HTMLView",
            "description": "",
            "description_tooltip": null,
            "layout": "IPY_MODEL_6d8c2a41c15141d8990aaba8a6e63d5d",
            "placeholder": "​",
            "style": "IPY_MODEL_9ac0a3ecd05948248b72dfb5e39a3f38",
            "value": "100%"
          }
        },
        "8bad3db87d474da7bbe0d3fef6731864": {
          "model_module": "@jupyter-widgets/controls",
          "model_name": "FloatProgressModel",
          "model_module_version": "1.5.0",
          "state": {
            "_dom_classes": [],
            "_model_module": "@jupyter-widgets/controls",
            "_model_module_version": "1.5.0",
            "_model_name": "FloatProgressModel",
            "_view_count": null,
            "_view_module": "@jupyter-widgets/controls",
            "_view_module_version": "1.5.0",
            "_view_name": "ProgressView",
            "bar_style": "success",
            "description": "",
            "description_tooltip": null,
            "layout": "IPY_MODEL_cff56b66062c4225a7bf5fa617988ba6",
            "max": 64,
            "min": 0,
            "orientation": "horizontal",
            "style": "IPY_MODEL_ef683b0404934f1daeff49c74ecae376",
            "value": 64
          }
        },
        "54005635c9aa40499358b99ea86dcdaa": {
          "model_module": "@jupyter-widgets/controls",
          "model_name": "HTMLModel",
          "model_module_version": "1.5.0",
          "state": {
            "_dom_classes": [],
            "_model_module": "@jupyter-widgets/controls",
            "_model_module_version": "1.5.0",
            "_model_name": "HTMLModel",
            "_view_count": null,
            "_view_module": "@jupyter-widgets/controls",
            "_view_module_version": "1.5.0",
            "_view_name": "HTMLView",
            "description": "",
            "description_tooltip": null,
            "layout": "IPY_MODEL_52a02601c5ac40dda27b52ef68052660",
            "placeholder": "​",
            "style": "IPY_MODEL_4faa4f13a9984d159ce3107ec80d6835",
            "value": " 64/64 [01:01&lt;00:00,  1.46it/s]"
          }
        },
        "99c65f902b4f4c159e8604eb1ed8be59": {
          "model_module": "@jupyter-widgets/base",
          "model_name": "LayoutModel",
          "model_module_version": "1.2.0",
          "state": {
            "_model_module": "@jupyter-widgets/base",
            "_model_module_version": "1.2.0",
            "_model_name": "LayoutModel",
            "_view_count": null,
            "_view_module": "@jupyter-widgets/base",
            "_view_module_version": "1.2.0",
            "_view_name": "LayoutView",
            "align_content": null,
            "align_items": null,
            "align_self": null,
            "border": null,
            "bottom": null,
            "display": null,
            "flex": null,
            "flex_flow": null,
            "grid_area": null,
            "grid_auto_columns": null,
            "grid_auto_flow": null,
            "grid_auto_rows": null,
            "grid_column": null,
            "grid_gap": null,
            "grid_row": null,
            "grid_template_areas": null,
            "grid_template_columns": null,
            "grid_template_rows": null,
            "height": null,
            "justify_content": null,
            "justify_items": null,
            "left": null,
            "margin": null,
            "max_height": null,
            "max_width": null,
            "min_height": null,
            "min_width": null,
            "object_fit": null,
            "object_position": null,
            "order": null,
            "overflow": null,
            "overflow_x": null,
            "overflow_y": null,
            "padding": null,
            "right": null,
            "top": null,
            "visibility": null,
            "width": null
          }
        },
        "6d8c2a41c15141d8990aaba8a6e63d5d": {
          "model_module": "@jupyter-widgets/base",
          "model_name": "LayoutModel",
          "model_module_version": "1.2.0",
          "state": {
            "_model_module": "@jupyter-widgets/base",
            "_model_module_version": "1.2.0",
            "_model_name": "LayoutModel",
            "_view_count": null,
            "_view_module": "@jupyter-widgets/base",
            "_view_module_version": "1.2.0",
            "_view_name": "LayoutView",
            "align_content": null,
            "align_items": null,
            "align_self": null,
            "border": null,
            "bottom": null,
            "display": null,
            "flex": null,
            "flex_flow": null,
            "grid_area": null,
            "grid_auto_columns": null,
            "grid_auto_flow": null,
            "grid_auto_rows": null,
            "grid_column": null,
            "grid_gap": null,
            "grid_row": null,
            "grid_template_areas": null,
            "grid_template_columns": null,
            "grid_template_rows": null,
            "height": null,
            "justify_content": null,
            "justify_items": null,
            "left": null,
            "margin": null,
            "max_height": null,
            "max_width": null,
            "min_height": null,
            "min_width": null,
            "object_fit": null,
            "object_position": null,
            "order": null,
            "overflow": null,
            "overflow_x": null,
            "overflow_y": null,
            "padding": null,
            "right": null,
            "top": null,
            "visibility": null,
            "width": null
          }
        },
        "9ac0a3ecd05948248b72dfb5e39a3f38": {
          "model_module": "@jupyter-widgets/controls",
          "model_name": "DescriptionStyleModel",
          "model_module_version": "1.5.0",
          "state": {
            "_model_module": "@jupyter-widgets/controls",
            "_model_module_version": "1.5.0",
            "_model_name": "DescriptionStyleModel",
            "_view_count": null,
            "_view_module": "@jupyter-widgets/base",
            "_view_module_version": "1.2.0",
            "_view_name": "StyleView",
            "description_width": ""
          }
        },
        "cff56b66062c4225a7bf5fa617988ba6": {
          "model_module": "@jupyter-widgets/base",
          "model_name": "LayoutModel",
          "model_module_version": "1.2.0",
          "state": {
            "_model_module": "@jupyter-widgets/base",
            "_model_module_version": "1.2.0",
            "_model_name": "LayoutModel",
            "_view_count": null,
            "_view_module": "@jupyter-widgets/base",
            "_view_module_version": "1.2.0",
            "_view_name": "LayoutView",
            "align_content": null,
            "align_items": null,
            "align_self": null,
            "border": null,
            "bottom": null,
            "display": null,
            "flex": null,
            "flex_flow": null,
            "grid_area": null,
            "grid_auto_columns": null,
            "grid_auto_flow": null,
            "grid_auto_rows": null,
            "grid_column": null,
            "grid_gap": null,
            "grid_row": null,
            "grid_template_areas": null,
            "grid_template_columns": null,
            "grid_template_rows": null,
            "height": null,
            "justify_content": null,
            "justify_items": null,
            "left": null,
            "margin": null,
            "max_height": null,
            "max_width": null,
            "min_height": null,
            "min_width": null,
            "object_fit": null,
            "object_position": null,
            "order": null,
            "overflow": null,
            "overflow_x": null,
            "overflow_y": null,
            "padding": null,
            "right": null,
            "top": null,
            "visibility": null,
            "width": null
          }
        },
        "ef683b0404934f1daeff49c74ecae376": {
          "model_module": "@jupyter-widgets/controls",
          "model_name": "ProgressStyleModel",
          "model_module_version": "1.5.0",
          "state": {
            "_model_module": "@jupyter-widgets/controls",
            "_model_module_version": "1.5.0",
            "_model_name": "ProgressStyleModel",
            "_view_count": null,
            "_view_module": "@jupyter-widgets/base",
            "_view_module_version": "1.2.0",
            "_view_name": "StyleView",
            "bar_color": null,
            "description_width": ""
          }
        },
        "52a02601c5ac40dda27b52ef68052660": {
          "model_module": "@jupyter-widgets/base",
          "model_name": "LayoutModel",
          "model_module_version": "1.2.0",
          "state": {
            "_model_module": "@jupyter-widgets/base",
            "_model_module_version": "1.2.0",
            "_model_name": "LayoutModel",
            "_view_count": null,
            "_view_module": "@jupyter-widgets/base",
            "_view_module_version": "1.2.0",
            "_view_name": "LayoutView",
            "align_content": null,
            "align_items": null,
            "align_self": null,
            "border": null,
            "bottom": null,
            "display": null,
            "flex": null,
            "flex_flow": null,
            "grid_area": null,
            "grid_auto_columns": null,
            "grid_auto_flow": null,
            "grid_auto_rows": null,
            "grid_column": null,
            "grid_gap": null,
            "grid_row": null,
            "grid_template_areas": null,
            "grid_template_columns": null,
            "grid_template_rows": null,
            "height": null,
            "justify_content": null,
            "justify_items": null,
            "left": null,
            "margin": null,
            "max_height": null,
            "max_width": null,
            "min_height": null,
            "min_width": null,
            "object_fit": null,
            "object_position": null,
            "order": null,
            "overflow": null,
            "overflow_x": null,
            "overflow_y": null,
            "padding": null,
            "right": null,
            "top": null,
            "visibility": null,
            "width": null
          }
        },
        "4faa4f13a9984d159ce3107ec80d6835": {
          "model_module": "@jupyter-widgets/controls",
          "model_name": "DescriptionStyleModel",
          "model_module_version": "1.5.0",
          "state": {
            "_model_module": "@jupyter-widgets/controls",
            "_model_module_version": "1.5.0",
            "_model_name": "DescriptionStyleModel",
            "_view_count": null,
            "_view_module": "@jupyter-widgets/base",
            "_view_module_version": "1.2.0",
            "_view_name": "StyleView",
            "description_width": ""
          }
        }
      }
    },
    "accelerator": "GPU"
  },
  "cells": [
    {
      "cell_type": "code",
      "source": [
        "!pip install openpyxl"
      ],
      "metadata": {
        "colab": {
          "base_uri": "https://localhost:8080/"
        },
        "id": "Jt8UEVG9mI8N",
        "outputId": "ebbec1ee-e636-4e0b-c2f5-f1c147480ecc"
      },
      "execution_count": 1,
      "outputs": [
        {
          "output_type": "stream",
          "name": "stdout",
          "text": [
            "Requirement already satisfied: openpyxl in /usr/local/lib/python3.11/dist-packages (3.1.5)\n",
            "Requirement already satisfied: et-xmlfile in /usr/local/lib/python3.11/dist-packages (from openpyxl) (2.0.0)\n"
          ]
        }
      ]
    },
    {
      "cell_type": "code",
      "metadata": {
        "id": "j6JiSV8zmDew",
        "ExecuteTime": {
          "end_time": "2025-02-18T19:12:36.755758Z",
          "start_time": "2025-02-18T19:12:33.701592Z"
        },
        "colab": {
          "base_uri": "https://localhost:8080/"
        },
        "outputId": "df68c25e-a9f7-425c-e084-33dfa8a73242"
      },
      "source": [
        "import pandas as pd\n",
        "import numpy as np\n",
        "\n",
        "import torch as t\n",
        "import torch.nn.functional as f\n",
        "\n",
        "from tqdm.notebook import trange, tqdm\n",
        "\n",
        "from bs4 import BeautifulSoup\n",
        "\n",
        "from transformers import pipeline\n",
        "\n",
        "import nltk\n",
        "nltk.download('punkt')\n",
        "nltk.download('punkt_tab')"
      ],
      "outputs": [
        {
          "output_type": "stream",
          "name": "stderr",
          "text": [
            "[nltk_data] Downloading package punkt to /root/nltk_data...\n",
            "[nltk_data]   Package punkt is already up-to-date!\n",
            "[nltk_data] Downloading package punkt_tab to /root/nltk_data...\n",
            "[nltk_data]   Unzipping tokenizers/punkt_tab.zip.\n"
          ]
        },
        {
          "output_type": "execute_result",
          "data": {
            "text/plain": [
              "True"
            ]
          },
          "metadata": {},
          "execution_count": 15
        }
      ],
      "execution_count": 15
    },
    {
      "cell_type": "markdown",
      "source": [
        "# Импорт и обработка данных\n",
        "\n",
        "---\n",
        "\n",
        "Создание качественного датасета будет состоять из этапов:\n",
        "- Загрузим 3 варианта размеченного датасета - объедим все варианты в один и удалим дубликаты\n",
        "- Очистим данные от html-тегов, шума и малоинформативных предложений(предложения из 1-5 слов убираем)\n",
        "- Проведем аугментацию данных с более редкими классами\n",
        "- Для дополнительной балансировки классов и большего разнообразия данных добавим к аугментированным данным данные из **RuSentiment**"
      ],
      "metadata": {
        "id": "VSZbRiB8no4M"
      }
    },
    {
      "cell_type": "code",
      "source": [
        "data1 = pd.read_excel('/content/sample_data/data_comments_1.xlsx')\n",
        "data2 = pd.read_excel('/content/sample_data/data_comments_2.xlsx')\n",
        "data3 = pd.read_excel('/content/sample_data/data_comments_3.xlsx')"
      ],
      "metadata": {
        "id": "BmhrunlcmfeG"
      },
      "execution_count": 131,
      "outputs": []
    },
    {
      "cell_type": "code",
      "source": [
        "data = pd.concat([data1, data2, data3], axis=0).drop_duplicates()"
      ],
      "metadata": {
        "id": "FkIt8X9iiBOZ"
      },
      "execution_count": 132,
      "outputs": []
    },
    {
      "cell_type": "code",
      "source": [
        "from bs4 import BeautifulSoup\n",
        "\n",
        "# Удалим html теги\n",
        "def html_to_text(html):\n",
        "    soup = BeautifulSoup(html, \"html.parser\")\n",
        "    text = soup.get_text(separator=\" \")\n",
        "    text = text.replace(\"\\xa0\", \" \")\n",
        "    return text.strip()\n",
        "\n",
        "data.MessageText = data.MessageText.apply(lambda x: html_to_text(x))"
      ],
      "metadata": {
        "id": "-cF1848Vm4vB"
      },
      "execution_count": 133,
      "outputs": []
    },
    {
      "cell_type": "code",
      "source": [
        "import re\n",
        "from nltk import word_tokenize\n",
        "\n",
        "# Частично избавимся от \"шума\"\n",
        "def is_noise(text):\n",
        "    if len(word_tokenize(text)) <= 5:  # Убираем слишком короткие строки\n",
        "        return True\n",
        "    if re.match(r\"^[\\W\\d_]+$\", text):  # Только символы и цифры\n",
        "        return True\n",
        "    if re.match(r\"^[a-zA-Z]+$\", text):  # Только латиница\n",
        "        return True\n",
        "    return False\n",
        "\n",
        "data = data[~data.MessageText.apply(is_noise)]"
      ],
      "metadata": {
        "id": "7JUT04hinJdQ"
      },
      "execution_count": 134,
      "outputs": []
    },
    {
      "cell_type": "markdown",
      "source": [
        "# Аугментация данных\n",
        "\n",
        "---\n",
        "\n",
        "Используем предобученную модель для перефразирования предложений, классы для перефразированных предложений сохраняем\n",
        "\n",
        "Для того, чтобы избавиться от пересечения примеров в будущем, разделим выборку заранее на тренировочную и тестовую"
      ],
      "metadata": {
        "id": "u0RKWpt7eCWn"
      }
    },
    {
      "cell_type": "code",
      "source": [
        "# Посмотрим на балансировку данных\n",
        "classes_counts = data.labels.value_counts()\n",
        "classes_counts"
      ],
      "metadata": {
        "colab": {
          "base_uri": "https://localhost:8080/",
          "height": 209
        },
        "id": "5JuYkTZkfp3d",
        "outputId": "91397d42-66f5-44bc-edbb-3762fdffe40d"
      },
      "execution_count": 135,
      "outputs": [
        {
          "output_type": "execute_result",
          "data": {
            "text/plain": [
              "labels\n",
              "1    265\n",
              "2    150\n",
              "0     64\n",
              "Name: count, dtype: int64"
            ],
            "text/html": [
              "<div>\n",
              "<style scoped>\n",
              "    .dataframe tbody tr th:only-of-type {\n",
              "        vertical-align: middle;\n",
              "    }\n",
              "\n",
              "    .dataframe tbody tr th {\n",
              "        vertical-align: top;\n",
              "    }\n",
              "\n",
              "    .dataframe thead th {\n",
              "        text-align: right;\n",
              "    }\n",
              "</style>\n",
              "<table border=\"1\" class=\"dataframe\">\n",
              "  <thead>\n",
              "    <tr style=\"text-align: right;\">\n",
              "      <th></th>\n",
              "      <th>count</th>\n",
              "    </tr>\n",
              "    <tr>\n",
              "      <th>labels</th>\n",
              "      <th></th>\n",
              "    </tr>\n",
              "  </thead>\n",
              "  <tbody>\n",
              "    <tr>\n",
              "      <th>1</th>\n",
              "      <td>265</td>\n",
              "    </tr>\n",
              "    <tr>\n",
              "      <th>2</th>\n",
              "      <td>150</td>\n",
              "    </tr>\n",
              "    <tr>\n",
              "      <th>0</th>\n",
              "      <td>64</td>\n",
              "    </tr>\n",
              "  </tbody>\n",
              "</table>\n",
              "</div><br><label><b>dtype:</b> int64</label>"
            ]
          },
          "metadata": {},
          "execution_count": 135
        }
      ]
    },
    {
      "cell_type": "code",
      "source": [
        "# Теперь посчитаем сколько примеров нужно сгенерировать для каждого класса для балансировки\n",
        "classes_samples = np.round(classes_counts.max() / classes_counts).astype(int) - 1\n",
        "classes_samples"
      ],
      "metadata": {
        "colab": {
          "base_uri": "https://localhost:8080/",
          "height": 209
        },
        "id": "lUdJpqYNfzSu",
        "outputId": "88d8ea25-50fb-4054-b4ff-dd644fef84e9"
      },
      "execution_count": 136,
      "outputs": [
        {
          "output_type": "execute_result",
          "data": {
            "text/plain": [
              "labels\n",
              "1    0\n",
              "2    1\n",
              "0    3\n",
              "Name: count, dtype: int64"
            ],
            "text/html": [
              "<div>\n",
              "<style scoped>\n",
              "    .dataframe tbody tr th:only-of-type {\n",
              "        vertical-align: middle;\n",
              "    }\n",
              "\n",
              "    .dataframe tbody tr th {\n",
              "        vertical-align: top;\n",
              "    }\n",
              "\n",
              "    .dataframe thead th {\n",
              "        text-align: right;\n",
              "    }\n",
              "</style>\n",
              "<table border=\"1\" class=\"dataframe\">\n",
              "  <thead>\n",
              "    <tr style=\"text-align: right;\">\n",
              "      <th></th>\n",
              "      <th>count</th>\n",
              "    </tr>\n",
              "    <tr>\n",
              "      <th>labels</th>\n",
              "      <th></th>\n",
              "    </tr>\n",
              "  </thead>\n",
              "  <tbody>\n",
              "    <tr>\n",
              "      <th>1</th>\n",
              "      <td>0</td>\n",
              "    </tr>\n",
              "    <tr>\n",
              "      <th>2</th>\n",
              "      <td>1</td>\n",
              "    </tr>\n",
              "    <tr>\n",
              "      <th>0</th>\n",
              "      <td>3</td>\n",
              "    </tr>\n",
              "  </tbody>\n",
              "</table>\n",
              "</div><br><label><b>dtype:</b> int64</label>"
            ]
          },
          "metadata": {},
          "execution_count": 136
        }
      ]
    },
    {
      "cell_type": "code",
      "source": [
        "import torch as t\n",
        "from transformers import pipeline\n",
        "from tqdm.notebook import trange, tqdm\n",
        "\n",
        "paraphrase_model = pipeline(\n",
        "    \"text2text-generation\",\n",
        "    model=\"cointegrated/rut5-base-paraphraser\",\n",
        "    device=0\n",
        ")\n",
        "\n",
        "def paraphrase_text(text, num_return_sequences=3):\n",
        "    paraphrased = paraphrase_model(\n",
        "        text,\n",
        "        max_length=256,\n",
        "        num_return_sequences=num_return_sequences,\n",
        "        truncation=True,\n",
        "        temperature=0.6,\n",
        "        do_sample=True,\n",
        "    )\n",
        "\n",
        "    return [p[\"generated_text\"] for p in paraphrased]\n",
        "\n",
        "aug_data = {\n",
        "    'MessageText': [],\n",
        "    'labels': []\n",
        "}\n",
        "\n",
        "for row in classes_samples.to_frame().iterrows():\n",
        "    class_, return_seqs = row[0], row[1].iloc[0]\n",
        "\n",
        "    if return_seqs == 0:\n",
        "        continue\n",
        "\n",
        "    subdata = data[data.labels == class_]\n",
        "    for i in trange(subdata.shape[0]):\n",
        "        aug_text = paraphrase_text(subdata.iloc[i, 0], return_seqs)\n",
        "\n",
        "        aug_data['MessageText'] += aug_text\n",
        "        aug_data['labels'] += [subdata.iloc[i, 1]] * return_seqs\n",
        "\n",
        "        t.cuda.empty_cache()\n",
        "\n",
        "aug_data = pd.DataFrame(aug_data)"
      ],
      "metadata": {
        "id": "NzXgql_Y1IJ9",
        "colab": {
          "base_uri": "https://localhost:8080/",
          "height": 170,
          "referenced_widgets": [
            "17f40144236c4479b567a01327180eee",
            "a7c24344659347c2b94dd560d865cb11",
            "15247d668ea244bbbb2070c45f4ba7af",
            "0fb54e0fa63b4da4926890f36ca3cf6b",
            "e56a708b0deb4508a432c0678715593a",
            "44fdb5fe15604cc481359d9aed366189",
            "0c1b9b7f76e84052acd2e5f208c119bb",
            "75b7b6c6499448c9adb9bbee881674cf",
            "e16a6e89884341dab1531ec00109eac3",
            "fa70776d44794bd48fe206c123cec415",
            "ee0242c62ddb47089b0e742e8f8305b3",
            "df62b92599bf4f36b93c94db92584c17",
            "e13df4ce8621413eb34555b85376819b",
            "8bad3db87d474da7bbe0d3fef6731864",
            "54005635c9aa40499358b99ea86dcdaa",
            "99c65f902b4f4c159e8604eb1ed8be59",
            "6d8c2a41c15141d8990aaba8a6e63d5d",
            "9ac0a3ecd05948248b72dfb5e39a3f38",
            "cff56b66062c4225a7bf5fa617988ba6",
            "ef683b0404934f1daeff49c74ecae376",
            "52a02601c5ac40dda27b52ef68052660",
            "4faa4f13a9984d159ce3107ec80d6835"
          ]
        },
        "outputId": "128533c7-a01a-4882-b554-2b0137ae94b0"
      },
      "execution_count": 138,
      "outputs": [
        {
          "output_type": "stream",
          "name": "stderr",
          "text": [
            "/usr/local/lib/python3.11/dist-packages/transformers/convert_slow_tokenizer.py:561: UserWarning: The sentencepiece tokenizer that you are converting to a fast tokenizer uses the byte fallback option which is not implemented in the fast tokenizers. In practice this means that the fast version of the tokenizer can produce unknown tokens whereas the sentencepiece version would have converted these unknown tokens into a sequence of byte tokens matching the original piece of text.\n",
            "  warnings.warn(\n",
            "Device set to use cuda:0\n"
          ]
        },
        {
          "output_type": "display_data",
          "data": {
            "text/plain": [
              "  0%|          | 0/150 [00:00<?, ?it/s]"
            ],
            "application/vnd.jupyter.widget-view+json": {
              "version_major": 2,
              "version_minor": 0,
              "model_id": "17f40144236c4479b567a01327180eee"
            }
          },
          "metadata": {}
        },
        {
          "output_type": "stream",
          "name": "stderr",
          "text": [
            "Asking to truncate to max_length but no maximum length is provided and the model has no predefined maximum length. Default to no truncation.\n"
          ]
        },
        {
          "output_type": "display_data",
          "data": {
            "text/plain": [
              "  0%|          | 0/64 [00:00<?, ?it/s]"
            ],
            "application/vnd.jupyter.widget-view+json": {
              "version_major": 2,
              "version_minor": 0,
              "model_id": "df62b92599bf4f36b93c94db92584c17"
            }
          },
          "metadata": {}
        }
      ]
    },
    {
      "cell_type": "code",
      "source": [
        "# Объединим данные и избавимся от дубликатов\n",
        "data = pd.concat([data, aug_data], axis=0).drop_duplicates()\n",
        "\n",
        "# Рандомно засэмплируем данные\n",
        "data = data.sample(frac=1)"
      ],
      "metadata": {
        "id": "9vLL-YcpmaCy"
      },
      "execution_count": 140,
      "outputs": []
    },
    {
      "cell_type": "code",
      "source": [
        "# Посмотрим на баланс аугментированных данных\n",
        "classes_counts = data.labels.value_counts()\n",
        "classes_counts"
      ],
      "metadata": {
        "colab": {
          "base_uri": "https://localhost:8080/",
          "height": 209
        },
        "id": "olaAwFlnntfm",
        "outputId": "6514d9d8-b461-433d-8224-fa0c73449615"
      },
      "execution_count": 141,
      "outputs": [
        {
          "output_type": "execute_result",
          "data": {
            "text/plain": [
              "labels\n",
              "2    281\n",
              "1    265\n",
              "0    246\n",
              "Name: count, dtype: int64"
            ],
            "text/html": [
              "<div>\n",
              "<style scoped>\n",
              "    .dataframe tbody tr th:only-of-type {\n",
              "        vertical-align: middle;\n",
              "    }\n",
              "\n",
              "    .dataframe tbody tr th {\n",
              "        vertical-align: top;\n",
              "    }\n",
              "\n",
              "    .dataframe thead th {\n",
              "        text-align: right;\n",
              "    }\n",
              "</style>\n",
              "<table border=\"1\" class=\"dataframe\">\n",
              "  <thead>\n",
              "    <tr style=\"text-align: right;\">\n",
              "      <th></th>\n",
              "      <th>count</th>\n",
              "    </tr>\n",
              "    <tr>\n",
              "      <th>labels</th>\n",
              "      <th></th>\n",
              "    </tr>\n",
              "  </thead>\n",
              "  <tbody>\n",
              "    <tr>\n",
              "      <th>2</th>\n",
              "      <td>281</td>\n",
              "    </tr>\n",
              "    <tr>\n",
              "      <th>1</th>\n",
              "      <td>265</td>\n",
              "    </tr>\n",
              "    <tr>\n",
              "      <th>0</th>\n",
              "      <td>246</td>\n",
              "    </tr>\n",
              "  </tbody>\n",
              "</table>\n",
              "</div><br><label><b>dtype:</b> int64</label>"
            ]
          },
          "metadata": {},
          "execution_count": 141
        }
      ]
    },
    {
      "cell_type": "markdown",
      "source": [
        "# RuSentiment\n",
        "\n",
        "---\n",
        "\n",
        "Загрузим данные и объединим их. Из них возьмем часть данных для каждого классаб чтобы размер датасета был приблизительно в 3-3.5 раза больше первоначального. При этом сделаем акцент на отрицательном классе, чтоб будущая модель могла лучше обучиться на разнообразном наборе отрицательных классов"
      ],
      "metadata": {
        "id": "uMmxrluCrBwX"
      }
    },
    {
      "cell_type": "code",
      "source": [
        "resent1 = pd.read_csv('/content/sample_data/rusentiment_random_posts.csv')\n",
        "resent2 = pd.read_csv('/content/sample_data/rusentiment_preselected_posts.csv')\n",
        "\n",
        "rusent_data = pd.concat([resent1, resent2], axis=0).rename(columns={'text': 'MessageText', 'label': 'labels'})"
      ],
      "metadata": {
        "id": "wiFVwpjVppWe"
      },
      "execution_count": 142,
      "outputs": []
    },
    {
      "cell_type": "code",
      "source": [
        "need_classes_samples = {\n",
        "    'negative': (550, 0),\n",
        "    'neutral': (500, 1),\n",
        "    'positive': (450, 2)\n",
        "}\n",
        "\n",
        "for cls, (n_samples, idx) in need_classes_samples.items():\n",
        "    data_sample = rusent_data[rusent_data.labels == cls].sample(frac=1).iloc[:n_samples]\n",
        "    data_sample.labels = idx\n",
        "\n",
        "    data = pd.concat([data, data_sample], axis=0)\n",
        "\n",
        "data = data.sample(frac=1)"
      ],
      "metadata": {
        "id": "swDHCqD7sMLs"
      },
      "execution_count": 144,
      "outputs": []
    },
    {
      "cell_type": "markdown",
      "source": [
        "# Сбор тестовых данных\n",
        "\n",
        "---\n",
        "\n",
        "Объединим примеры данных из 35 сообщений и 100 сообщений"
      ],
      "metadata": {
        "id": "CEPfAYeXuHmE"
      }
    },
    {
      "cell_type": "code",
      "source": [
        "test_data1 = pd.read_excel('/content/sample_data/dataset_comments_35.xlsx')\n",
        "test_data2 = pd.read_excel('/content/sample_data/dataset_comments_100_test.xlsx')\n",
        "\n",
        "test_data = pd.concat([test_data1, test_data2], axis=0)[['MessageText', 'labels']]\n",
        "test_data.MessageText = test_data.MessageText.apply(lambda x: html_to_text(x))\n",
        "\n",
        "cls2idx = {\n",
        "    'G': 2,\n",
        "    'N': 1,\n",
        "    'B': 0\n",
        "}\n",
        "\n",
        "test_data.labels = test_data.labels.apply(lambda x: cls2idx[x])"
      ],
      "metadata": {
        "id": "NpImQcTYuVnF"
      },
      "execution_count": 162,
      "outputs": []
    },
    {
      "cell_type": "code",
      "source": [
        "# Сохраним данные\n",
        "data.to_excel('/content/train_dataset.xlsx')\n",
        "test_data.to_excel('/content/test_dataset.xlsx')"
      ],
      "metadata": {
        "id": "5n-o1lEOnYJj"
      },
      "execution_count": 164,
      "outputs": []
    },
    {
      "cell_type": "code",
      "source": [],
      "metadata": {
        "id": "IApBjACVn6gt"
      },
      "execution_count": null,
      "outputs": []
    }
  ]
}